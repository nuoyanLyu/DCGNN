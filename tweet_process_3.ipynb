{
 "cells": [
  {
   "cell_type": "code",
   "execution_count": 1,
   "id": "137cebe4",
   "metadata": {},
   "outputs": [],
   "source": [
    "import pandas as pd\n",
    "import json\n",
    "import torch"
   ]
  },
  {
   "cell_type": "code",
   "execution_count": 2,
   "id": "a6a5d3ac",
   "metadata": {},
   "outputs": [],
   "source": [
    "partPath = 'TwiBot-22-com/'\n",
    "dirPath = 'TwiBot-22/'"
   ]
  },
  {
   "cell_type": "code",
   "execution_count": 3,
   "id": "12bf5410",
   "metadata": {},
   "outputs": [],
   "source": [
    "dfTweet = pd.read_csv(partPath + 'tweetMinCols.csv')"
   ]
  },
  {
   "cell_type": "code",
   "execution_count": 4,
   "id": "3cb2122b",
   "metadata": {},
   "outputs": [
    {
     "data": {
      "text/html": [
       "<div>\n",
       "<style scoped>\n",
       "    .dataframe tbody tr th:only-of-type {\n",
       "        vertical-align: middle;\n",
       "    }\n",
       "\n",
       "    .dataframe tbody tr th {\n",
       "        vertical-align: top;\n",
       "    }\n",
       "\n",
       "    .dataframe thead th {\n",
       "        text-align: right;\n",
       "    }\n",
       "</style>\n",
       "<table border=\"1\" class=\"dataframe\">\n",
       "  <thead>\n",
       "    <tr style=\"text-align: right;\">\n",
       "      <th></th>\n",
       "      <th>id</th>\n",
       "      <th>uid</th>\n",
       "      <th>uidMap</th>\n",
       "      <th>countDays</th>\n",
       "    </tr>\n",
       "  </thead>\n",
       "  <tbody>\n",
       "    <tr>\n",
       "      <th>0</th>\n",
       "      <td>t1499693636107190272</td>\n",
       "      <td>u2443666806</td>\n",
       "      <td>1813</td>\n",
       "      <td>11</td>\n",
       "    </tr>\n",
       "    <tr>\n",
       "      <th>1</th>\n",
       "      <td>t1499087527193583627</td>\n",
       "      <td>u3067857869</td>\n",
       "      <td>3388</td>\n",
       "      <td>13</td>\n",
       "    </tr>\n",
       "    <tr>\n",
       "      <th>2</th>\n",
       "      <td>t1497700449411076100</td>\n",
       "      <td>u1375007264</td>\n",
       "      <td>6080</td>\n",
       "      <td>17</td>\n",
       "    </tr>\n",
       "    <tr>\n",
       "      <th>3</th>\n",
       "      <td>t1495439610297843713</td>\n",
       "      <td>u1397042382701400068</td>\n",
       "      <td>1673</td>\n",
       "      <td>23</td>\n",
       "    </tr>\n",
       "    <tr>\n",
       "      <th>4</th>\n",
       "      <td>t1128656436291153921</td>\n",
       "      <td>u117514645</td>\n",
       "      <td>6173</td>\n",
       "      <td>1035</td>\n",
       "    </tr>\n",
       "    <tr>\n",
       "      <th>...</th>\n",
       "      <td>...</td>\n",
       "      <td>...</td>\n",
       "      <td>...</td>\n",
       "      <td>...</td>\n",
       "    </tr>\n",
       "    <tr>\n",
       "      <th>984712</th>\n",
       "      <td>t1496590935957901315</td>\n",
       "      <td>u311932430</td>\n",
       "      <td>655</td>\n",
       "      <td>20</td>\n",
       "    </tr>\n",
       "    <tr>\n",
       "      <th>984713</th>\n",
       "      <td>t1495138932740268032</td>\n",
       "      <td>u1057363273832636417</td>\n",
       "      <td>2570</td>\n",
       "      <td>24</td>\n",
       "    </tr>\n",
       "    <tr>\n",
       "      <th>984714</th>\n",
       "      <td>t1499765247971840004</td>\n",
       "      <td>u143608676</td>\n",
       "      <td>3678</td>\n",
       "      <td>11</td>\n",
       "    </tr>\n",
       "    <tr>\n",
       "      <th>984715</th>\n",
       "      <td>t1492482983172919296</td>\n",
       "      <td>u725629991271186432</td>\n",
       "      <td>7253</td>\n",
       "      <td>31</td>\n",
       "    </tr>\n",
       "    <tr>\n",
       "      <th>984716</th>\n",
       "      <td>t1491043883241062404</td>\n",
       "      <td>u373907847</td>\n",
       "      <td>189</td>\n",
       "      <td>35</td>\n",
       "    </tr>\n",
       "  </tbody>\n",
       "</table>\n",
       "<p>984717 rows × 4 columns</p>\n",
       "</div>"
      ],
      "text/plain": [
       "                          id                   uid  uidMap  countDays\n",
       "0       t1499693636107190272           u2443666806    1813         11\n",
       "1       t1499087527193583627           u3067857869    3388         13\n",
       "2       t1497700449411076100           u1375007264    6080         17\n",
       "3       t1495439610297843713  u1397042382701400068    1673         23\n",
       "4       t1128656436291153921            u117514645    6173       1035\n",
       "...                      ...                   ...     ...        ...\n",
       "984712  t1496590935957901315            u311932430     655         20\n",
       "984713  t1495138932740268032  u1057363273832636417    2570         24\n",
       "984714  t1499765247971840004            u143608676    3678         11\n",
       "984715  t1492482983172919296   u725629991271186432    7253         31\n",
       "984716  t1491043883241062404            u373907847     189         35\n",
       "\n",
       "[984717 rows x 4 columns]"
      ]
     },
     "execution_count": 4,
     "metadata": {},
     "output_type": "execute_result"
    }
   ],
   "source": [
    "dfTweet"
   ]
  },
  {
   "cell_type": "code",
   "execution_count": 5,
   "id": "e64c4d14",
   "metadata": {},
   "outputs": [
    {
     "data": {
      "text/html": [
       "<div>\n",
       "<style scoped>\n",
       "    .dataframe tbody tr th:only-of-type {\n",
       "        vertical-align: middle;\n",
       "    }\n",
       "\n",
       "    .dataframe tbody tr th {\n",
       "        vertical-align: top;\n",
       "    }\n",
       "\n",
       "    .dataframe thead th {\n",
       "        text-align: right;\n",
       "    }\n",
       "</style>\n",
       "<table border=\"1\" class=\"dataframe\">\n",
       "  <thead>\n",
       "    <tr style=\"text-align: right;\">\n",
       "      <th></th>\n",
       "      <th>created_at</th>\n",
       "      <th>description</th>\n",
       "      <th>entities</th>\n",
       "      <th>id</th>\n",
       "      <th>location</th>\n",
       "      <th>name</th>\n",
       "      <th>pinned_tweet_id</th>\n",
       "      <th>profile_image_url</th>\n",
       "      <th>protected</th>\n",
       "      <th>public_metrics</th>\n",
       "      <th>url</th>\n",
       "      <th>username</th>\n",
       "      <th>verified</th>\n",
       "      <th>withheld</th>\n",
       "    </tr>\n",
       "  </thead>\n",
       "  <tbody>\n",
       "    <tr>\n",
       "      <th>0</th>\n",
       "      <td>2016-09-02 17:13:51</td>\n",
       "      <td>‏‏‏Abdelwahed Wajih\\nعبدالواحد وجيه</td>\n",
       "      <td>{'url': {'urls': [{'start': 0, 'end': 23, 'url...</td>\n",
       "      <td>u771758047412748288</td>\n",
       "      <td>None</td>\n",
       "      <td>عبد الواحد وجيه</td>\n",
       "      <td>NaN</td>\n",
       "      <td>https://pbs.twimg.com/profile_images/771764768...</td>\n",
       "      <td>False</td>\n",
       "      <td>{'followers_count': 2461, 'following_count': 2...</td>\n",
       "      <td>https://t.co/Wev6rydYcI</td>\n",
       "      <td>Wajihabdelwahd0</td>\n",
       "      <td>False</td>\n",
       "      <td>NaN</td>\n",
       "    </tr>\n",
       "    <tr>\n",
       "      <th>1</th>\n",
       "      <td>2009-10-29 08:21:28</td>\n",
       "      <td>Try my best in all my way to life happily..</td>\n",
       "      <td>None</td>\n",
       "      <td>u86020763</td>\n",
       "      <td>Indonesia</td>\n",
       "      <td>bernardinus</td>\n",
       "      <td>NaN</td>\n",
       "      <td>https://pbs.twimg.com/profile_images/349683458...</td>\n",
       "      <td>False</td>\n",
       "      <td>{'followers_count': 93, 'following_count': 98,...</td>\n",
       "      <td></td>\n",
       "      <td>Nduzzt</td>\n",
       "      <td>False</td>\n",
       "      <td>NaN</td>\n",
       "    </tr>\n",
       "    <tr>\n",
       "      <th>2</th>\n",
       "      <td>2018-06-06 19:11:31</td>\n",
       "      <td>waiting......2022⭐⭐</td>\n",
       "      <td>{'url': {'urls': [{'start': 0, 'end': 23, 'url...</td>\n",
       "      <td>u1004440668763230210</td>\n",
       "      <td>El Qaliobia, Egypt</td>\n",
       "      <td>Alhassan</td>\n",
       "      <td>NaN</td>\n",
       "      <td>https://pbs.twimg.com/profile_images/145774969...</td>\n",
       "      <td>False</td>\n",
       "      <td>{'followers_count': 61, 'following_count': 139...</td>\n",
       "      <td>https://t.co/yuALOjMusA</td>\n",
       "      <td>Alhassa13553164</td>\n",
       "      <td>False</td>\n",
       "      <td>NaN</td>\n",
       "    </tr>\n",
       "    <tr>\n",
       "      <th>3</th>\n",
       "      <td>2014-05-25 14:02:22</td>\n",
       "      <td>#Bugdroidy #FCIS #Barca</td>\n",
       "      <td>{'url': {'urls': [{'start': 0, 'end': 23, 'url...</td>\n",
       "      <td>u2522772534</td>\n",
       "      <td>Cairo, Egypt</td>\n",
       "      <td>khaled sherif</td>\n",
       "      <td>NaN</td>\n",
       "      <td>https://pbs.twimg.com/profile_images/123885339...</td>\n",
       "      <td>False</td>\n",
       "      <td>{'followers_count': 287, 'following_count': 31...</td>\n",
       "      <td>https://t.co/0omT0uNzyZ</td>\n",
       "      <td>Meslmawy</td>\n",
       "      <td>False</td>\n",
       "      <td>NaN</td>\n",
       "    </tr>\n",
       "    <tr>\n",
       "      <th>4</th>\n",
       "      <td>2021-03-25 15:48:41</td>\n",
       "      <td>رب الخير لا ياتى إلا بالخير 🖤</td>\n",
       "      <td>None</td>\n",
       "      <td>u1375112149157216258</td>\n",
       "      <td>None</td>\n",
       "      <td>Nada Abd Alrhman</td>\n",
       "      <td>NaN</td>\n",
       "      <td>https://pbs.twimg.com/profile_images/145660076...</td>\n",
       "      <td>False</td>\n",
       "      <td>{'followers_count': 39, 'following_count': 141...</td>\n",
       "      <td></td>\n",
       "      <td>NadaAbdAlrhman3</td>\n",
       "      <td>False</td>\n",
       "      <td>NaN</td>\n",
       "    </tr>\n",
       "    <tr>\n",
       "      <th>...</th>\n",
       "      <td>...</td>\n",
       "      <td>...</td>\n",
       "      <td>...</td>\n",
       "      <td>...</td>\n",
       "      <td>...</td>\n",
       "      <td>...</td>\n",
       "      <td>...</td>\n",
       "      <td>...</td>\n",
       "      <td>...</td>\n",
       "      <td>...</td>\n",
       "      <td>...</td>\n",
       "      <td>...</td>\n",
       "      <td>...</td>\n",
       "      <td>...</td>\n",
       "    </tr>\n",
       "    <tr>\n",
       "      <th>8689</th>\n",
       "      <td>2020-05-04 19:20:34</td>\n",
       "      <td>egyptian illustrator, comic artist, and magica...</td>\n",
       "      <td>{'url': {'urls': [{'start': 0, 'end': 23, 'url...</td>\n",
       "      <td>u1257389639318585345</td>\n",
       "      <td>20 | she/her</td>\n",
       "      <td>✨Nour T✨ COMMISSIONS OPEN</td>\n",
       "      <td>1.428708e+18</td>\n",
       "      <td>https://pbs.twimg.com/profile_images/147849174...</td>\n",
       "      <td>False</td>\n",
       "      <td>{'followers_count': 1773, 'following_count': 1...</td>\n",
       "      <td>https://t.co/SAFo4cnBOF</td>\n",
       "      <td>nourtarts</td>\n",
       "      <td>False</td>\n",
       "      <td>NaN</td>\n",
       "    </tr>\n",
       "    <tr>\n",
       "      <th>8690</th>\n",
       "      <td>2020-05-18 02:15:44</td>\n",
       "      <td>irgendwie irgendwo irgendwann.</td>\n",
       "      <td>None</td>\n",
       "      <td>u1262205160983605250</td>\n",
       "      <td>None</td>\n",
       "      <td>Dwight</td>\n",
       "      <td>NaN</td>\n",
       "      <td>https://pbs.twimg.com/profile_images/136715285...</td>\n",
       "      <td>False</td>\n",
       "      <td>{'followers_count': 5542, 'following_count': 4...</td>\n",
       "      <td></td>\n",
       "      <td>dewheit</td>\n",
       "      <td>False</td>\n",
       "      <td>NaN</td>\n",
       "    </tr>\n",
       "    <tr>\n",
       "      <th>8691</th>\n",
       "      <td>2011-10-26 19:01:06</td>\n",
       "      <td>‏‏الراعي الرسمي لتايم لاين الانمي</td>\n",
       "      <td>None</td>\n",
       "      <td>u398927679</td>\n",
       "      <td>Laugh Tale</td>\n",
       "      <td>الكايزوكو اوني والناكاما بتوعه 🤓</td>\n",
       "      <td>1.231680e+18</td>\n",
       "      <td>https://pbs.twimg.com/profile_images/148066499...</td>\n",
       "      <td>False</td>\n",
       "      <td>{'followers_count': 3544, 'following_count': 2...</td>\n",
       "      <td></td>\n",
       "      <td>_AhmedYehya_</td>\n",
       "      <td>False</td>\n",
       "      <td>NaN</td>\n",
       "    </tr>\n",
       "    <tr>\n",
       "      <th>8692</th>\n",
       "      <td>2008-05-20 16:07:04</td>\n",
       "      <td>Founder and CEO, 👕🚀\\nSports and Gaming\\n\\nForm...</td>\n",
       "      <td>{'url': {'urls': [{'start': 0, 'end': 23, 'url...</td>\n",
       "      <td>u14846901</td>\n",
       "      <td>Dallas, TX</td>\n",
       "      <td>Chris Chaney marcaurel.eth 🇩🇪🇺🇸</td>\n",
       "      <td>NaN</td>\n",
       "      <td>https://pbs.twimg.com/profile_images/126828321...</td>\n",
       "      <td>False</td>\n",
       "      <td>{'followers_count': 1720, 'following_count': 7...</td>\n",
       "      <td>https://t.co/VGxZ1Wvm5g</td>\n",
       "      <td>chrischaney</td>\n",
       "      <td>False</td>\n",
       "      <td>NaN</td>\n",
       "    </tr>\n",
       "    <tr>\n",
       "      <th>8693</th>\n",
       "      <td>2009-03-25 12:57:54</td>\n",
       "      <td>Marvel comics writer: X-FACTOR, GWENPOOL STRIK...</td>\n",
       "      <td>{'url': {'urls': [{'start': 0, 'end': 23, 'url...</td>\n",
       "      <td>u26490474</td>\n",
       "      <td>the boneyard, krakoa</td>\n",
       "      <td>Leah Williams</td>\n",
       "      <td>NaN</td>\n",
       "      <td>https://pbs.twimg.com/profile_images/882723937...</td>\n",
       "      <td>False</td>\n",
       "      <td>{'followers_count': 23119, 'following_count': ...</td>\n",
       "      <td>https://t.co/zk3zXHEC5i</td>\n",
       "      <td>mymonsterischic</td>\n",
       "      <td>False</td>\n",
       "      <td>NaN</td>\n",
       "    </tr>\n",
       "  </tbody>\n",
       "</table>\n",
       "<p>8694 rows × 14 columns</p>\n",
       "</div>"
      ],
      "text/plain": [
       "              created_at                                        description  \\\n",
       "0    2016-09-02 17:13:51                ‏‏‏Abdelwahed Wajih\\nعبدالواحد وجيه   \n",
       "1    2009-10-29 08:21:28        Try my best in all my way to life happily..   \n",
       "2    2018-06-06 19:11:31                                waiting......2022⭐⭐   \n",
       "3    2014-05-25 14:02:22                            #Bugdroidy #FCIS #Barca   \n",
       "4    2021-03-25 15:48:41                      رب الخير لا ياتى إلا بالخير 🖤   \n",
       "...                  ...                                                ...   \n",
       "8689 2020-05-04 19:20:34  egyptian illustrator, comic artist, and magica...   \n",
       "8690 2020-05-18 02:15:44                     irgendwie irgendwo irgendwann.   \n",
       "8691 2011-10-26 19:01:06                  ‏‏الراعي الرسمي لتايم لاين الانمي   \n",
       "8692 2008-05-20 16:07:04  Founder and CEO, 👕🚀\\nSports and Gaming\\n\\nForm...   \n",
       "8693 2009-03-25 12:57:54  Marvel comics writer: X-FACTOR, GWENPOOL STRIK...   \n",
       "\n",
       "                                               entities                    id  \\\n",
       "0     {'url': {'urls': [{'start': 0, 'end': 23, 'url...   u771758047412748288   \n",
       "1                                                  None             u86020763   \n",
       "2     {'url': {'urls': [{'start': 0, 'end': 23, 'url...  u1004440668763230210   \n",
       "3     {'url': {'urls': [{'start': 0, 'end': 23, 'url...           u2522772534   \n",
       "4                                                  None  u1375112149157216258   \n",
       "...                                                 ...                   ...   \n",
       "8689  {'url': {'urls': [{'start': 0, 'end': 23, 'url...  u1257389639318585345   \n",
       "8690                                               None  u1262205160983605250   \n",
       "8691                                               None            u398927679   \n",
       "8692  {'url': {'urls': [{'start': 0, 'end': 23, 'url...             u14846901   \n",
       "8693  {'url': {'urls': [{'start': 0, 'end': 23, 'url...             u26490474   \n",
       "\n",
       "                  location                              name  pinned_tweet_id  \\\n",
       "0                     None                   عبد الواحد وجيه              NaN   \n",
       "1                Indonesia                       bernardinus              NaN   \n",
       "2       El Qaliobia, Egypt                          Alhassan              NaN   \n",
       "3             Cairo, Egypt                     khaled sherif              NaN   \n",
       "4                     None                  Nada Abd Alrhman              NaN   \n",
       "...                    ...                               ...              ...   \n",
       "8689          20 | she/her         ✨Nour T✨ COMMISSIONS OPEN     1.428708e+18   \n",
       "8690                  None                            Dwight              NaN   \n",
       "8691            Laugh Tale  الكايزوكو اوني والناكاما بتوعه 🤓     1.231680e+18   \n",
       "8692            Dallas, TX   Chris Chaney marcaurel.eth 🇩🇪🇺🇸              NaN   \n",
       "8693  the boneyard, krakoa                     Leah Williams              NaN   \n",
       "\n",
       "                                      profile_image_url  protected  \\\n",
       "0     https://pbs.twimg.com/profile_images/771764768...      False   \n",
       "1     https://pbs.twimg.com/profile_images/349683458...      False   \n",
       "2     https://pbs.twimg.com/profile_images/145774969...      False   \n",
       "3     https://pbs.twimg.com/profile_images/123885339...      False   \n",
       "4     https://pbs.twimg.com/profile_images/145660076...      False   \n",
       "...                                                 ...        ...   \n",
       "8689  https://pbs.twimg.com/profile_images/147849174...      False   \n",
       "8690  https://pbs.twimg.com/profile_images/136715285...      False   \n",
       "8691  https://pbs.twimg.com/profile_images/148066499...      False   \n",
       "8692  https://pbs.twimg.com/profile_images/126828321...      False   \n",
       "8693  https://pbs.twimg.com/profile_images/882723937...      False   \n",
       "\n",
       "                                         public_metrics  \\\n",
       "0     {'followers_count': 2461, 'following_count': 2...   \n",
       "1     {'followers_count': 93, 'following_count': 98,...   \n",
       "2     {'followers_count': 61, 'following_count': 139...   \n",
       "3     {'followers_count': 287, 'following_count': 31...   \n",
       "4     {'followers_count': 39, 'following_count': 141...   \n",
       "...                                                 ...   \n",
       "8689  {'followers_count': 1773, 'following_count': 1...   \n",
       "8690  {'followers_count': 5542, 'following_count': 4...   \n",
       "8691  {'followers_count': 3544, 'following_count': 2...   \n",
       "8692  {'followers_count': 1720, 'following_count': 7...   \n",
       "8693  {'followers_count': 23119, 'following_count': ...   \n",
       "\n",
       "                          url         username  verified  withheld  \n",
       "0     https://t.co/Wev6rydYcI  Wajihabdelwahd0     False       NaN  \n",
       "1                                       Nduzzt     False       NaN  \n",
       "2     https://t.co/yuALOjMusA  Alhassa13553164     False       NaN  \n",
       "3     https://t.co/0omT0uNzyZ         Meslmawy     False       NaN  \n",
       "4                              NadaAbdAlrhman3     False       NaN  \n",
       "...                       ...              ...       ...       ...  \n",
       "8689  https://t.co/SAFo4cnBOF        nourtarts     False       NaN  \n",
       "8690                                   dewheit     False       NaN  \n",
       "8691                              _AhmedYehya_     False       NaN  \n",
       "8692  https://t.co/VGxZ1Wvm5g      chrischaney     False       NaN  \n",
       "8693  https://t.co/zk3zXHEC5i  mymonsterischic     False       NaN  \n",
       "\n",
       "[8694 rows x 14 columns]"
      ]
     },
     "execution_count": 5,
     "metadata": {},
     "output_type": "execute_result"
    }
   ],
   "source": [
    "dfUser = pd.read_json(partPath + 'user.json')\n",
    "dfUser"
   ]
  },
  {
   "cell_type": "code",
   "execution_count": 6,
   "id": "8933e526",
   "metadata": {},
   "outputs": [],
   "source": [
    "userList = dfUser['id'].tolist()"
   ]
  },
  {
   "cell_type": "code",
   "execution_count": 7,
   "id": "a39b93a6",
   "metadata": {},
   "outputs": [],
   "source": [
    "userMap = {userList[i] : i for i in range(len(userList))}"
   ]
  },
  {
   "cell_type": "code",
   "execution_count": 8,
   "id": "139fca7a",
   "metadata": {},
   "outputs": [
    {
     "data": {
      "text/plain": [
       "8693"
      ]
     },
     "execution_count": 8,
     "metadata": {},
     "output_type": "execute_result"
    }
   ],
   "source": [
    "userMap['u26490474']"
   ]
  },
  {
   "cell_type": "code",
   "execution_count": 9,
   "id": "958ca30b",
   "metadata": {},
   "outputs": [],
   "source": [
    "tidList = dfTweet['id'].tolist()\n",
    "tidMap = {tidList[i]: i for i in range(len(tidList))}"
   ]
  },
  {
   "cell_type": "code",
   "execution_count": 10,
   "id": "c54018a4",
   "metadata": {},
   "outputs": [
    {
     "data": {
      "text/plain": [
       "984714"
      ]
     },
     "execution_count": 10,
     "metadata": {},
     "output_type": "execute_result"
    }
   ],
   "source": [
    "tidMap['t1499765247971840004']"
   ]
  },
  {
   "cell_type": "code",
   "execution_count": 11,
   "id": "e3f271a9",
   "metadata": {},
   "outputs": [
    {
     "data": {
      "text/html": [
       "<div>\n",
       "<style scoped>\n",
       "    .dataframe tbody tr th:only-of-type {\n",
       "        vertical-align: middle;\n",
       "    }\n",
       "\n",
       "    .dataframe tbody tr th {\n",
       "        vertical-align: top;\n",
       "    }\n",
       "\n",
       "    .dataframe thead th {\n",
       "        text-align: right;\n",
       "    }\n",
       "</style>\n",
       "<table border=\"1\" class=\"dataframe\">\n",
       "  <thead>\n",
       "    <tr style=\"text-align: right;\">\n",
       "      <th></th>\n",
       "      <th>id</th>\n",
       "      <th>uid</th>\n",
       "      <th>uidMap</th>\n",
       "      <th>countDays</th>\n",
       "      <th>tidMap</th>\n",
       "    </tr>\n",
       "  </thead>\n",
       "  <tbody>\n",
       "    <tr>\n",
       "      <th>0</th>\n",
       "      <td>t1499693636107190272</td>\n",
       "      <td>u2443666806</td>\n",
       "      <td>1813</td>\n",
       "      <td>11</td>\n",
       "      <td>0</td>\n",
       "    </tr>\n",
       "    <tr>\n",
       "      <th>1</th>\n",
       "      <td>t1499087527193583627</td>\n",
       "      <td>u3067857869</td>\n",
       "      <td>3388</td>\n",
       "      <td>13</td>\n",
       "      <td>1</td>\n",
       "    </tr>\n",
       "    <tr>\n",
       "      <th>2</th>\n",
       "      <td>t1497700449411076100</td>\n",
       "      <td>u1375007264</td>\n",
       "      <td>6080</td>\n",
       "      <td>17</td>\n",
       "      <td>2</td>\n",
       "    </tr>\n",
       "    <tr>\n",
       "      <th>3</th>\n",
       "      <td>t1495439610297843713</td>\n",
       "      <td>u1397042382701400068</td>\n",
       "      <td>1673</td>\n",
       "      <td>23</td>\n",
       "      <td>3</td>\n",
       "    </tr>\n",
       "    <tr>\n",
       "      <th>4</th>\n",
       "      <td>t1128656436291153921</td>\n",
       "      <td>u117514645</td>\n",
       "      <td>6173</td>\n",
       "      <td>1035</td>\n",
       "      <td>4</td>\n",
       "    </tr>\n",
       "    <tr>\n",
       "      <th>...</th>\n",
       "      <td>...</td>\n",
       "      <td>...</td>\n",
       "      <td>...</td>\n",
       "      <td>...</td>\n",
       "      <td>...</td>\n",
       "    </tr>\n",
       "    <tr>\n",
       "      <th>984712</th>\n",
       "      <td>t1496590935957901315</td>\n",
       "      <td>u311932430</td>\n",
       "      <td>655</td>\n",
       "      <td>20</td>\n",
       "      <td>984712</td>\n",
       "    </tr>\n",
       "    <tr>\n",
       "      <th>984713</th>\n",
       "      <td>t1495138932740268032</td>\n",
       "      <td>u1057363273832636417</td>\n",
       "      <td>2570</td>\n",
       "      <td>24</td>\n",
       "      <td>984713</td>\n",
       "    </tr>\n",
       "    <tr>\n",
       "      <th>984714</th>\n",
       "      <td>t1499765247971840004</td>\n",
       "      <td>u143608676</td>\n",
       "      <td>3678</td>\n",
       "      <td>11</td>\n",
       "      <td>984714</td>\n",
       "    </tr>\n",
       "    <tr>\n",
       "      <th>984715</th>\n",
       "      <td>t1492482983172919296</td>\n",
       "      <td>u725629991271186432</td>\n",
       "      <td>7253</td>\n",
       "      <td>31</td>\n",
       "      <td>984715</td>\n",
       "    </tr>\n",
       "    <tr>\n",
       "      <th>984716</th>\n",
       "      <td>t1491043883241062404</td>\n",
       "      <td>u373907847</td>\n",
       "      <td>189</td>\n",
       "      <td>35</td>\n",
       "      <td>984716</td>\n",
       "    </tr>\n",
       "  </tbody>\n",
       "</table>\n",
       "<p>984717 rows × 5 columns</p>\n",
       "</div>"
      ],
      "text/plain": [
       "                          id                   uid  uidMap  countDays  tidMap\n",
       "0       t1499693636107190272           u2443666806    1813         11       0\n",
       "1       t1499087527193583627           u3067857869    3388         13       1\n",
       "2       t1497700449411076100           u1375007264    6080         17       2\n",
       "3       t1495439610297843713  u1397042382701400068    1673         23       3\n",
       "4       t1128656436291153921            u117514645    6173       1035       4\n",
       "...                      ...                   ...     ...        ...     ...\n",
       "984712  t1496590935957901315            u311932430     655         20  984712\n",
       "984713  t1495138932740268032  u1057363273832636417    2570         24  984713\n",
       "984714  t1499765247971840004            u143608676    3678         11  984714\n",
       "984715  t1492482983172919296   u725629991271186432    7253         31  984715\n",
       "984716  t1491043883241062404            u373907847     189         35  984716\n",
       "\n",
       "[984717 rows x 5 columns]"
      ]
     },
     "execution_count": 11,
     "metadata": {},
     "output_type": "execute_result"
    }
   ],
   "source": [
    "dfTweet['tidMap'] = dfTweet['id'].map(tidMap)\n",
    "dfTweet['uidMap'] = dfTweet['uid'].map(userMap)\n",
    "dfTweet"
   ]
  },
  {
   "cell_type": "code",
   "execution_count": 12,
   "id": "679b34c9",
   "metadata": {},
   "outputs": [],
   "source": [
    "catFeatures = torch.load(partPath + 'tweet_cat_properties.pt')\n",
    "numFeatures = torch.load(partPath + 'tweet_num_properties.pt')"
   ]
  },
  {
   "cell_type": "code",
   "execution_count": 13,
   "id": "43599443",
   "metadata": {},
   "outputs": [
    {
     "data": {
      "text/html": [
       "<div>\n",
       "<style scoped>\n",
       "    .dataframe tbody tr th:only-of-type {\n",
       "        vertical-align: middle;\n",
       "    }\n",
       "\n",
       "    .dataframe tbody tr th {\n",
       "        vertical-align: top;\n",
       "    }\n",
       "\n",
       "    .dataframe thead th {\n",
       "        text-align: right;\n",
       "    }\n",
       "</style>\n",
       "<table border=\"1\" class=\"dataframe\">\n",
       "  <thead>\n",
       "    <tr style=\"text-align: right;\">\n",
       "      <th></th>\n",
       "      <th>uid</th>\n",
       "      <th>id</th>\n",
       "      <th>uidMap</th>\n",
       "      <th>countDays</th>\n",
       "      <th>tidMap</th>\n",
       "    </tr>\n",
       "  </thead>\n",
       "  <tbody>\n",
       "    <tr>\n",
       "      <th>0</th>\n",
       "      <td>u1000214682530074624</td>\n",
       "      <td>[t1487251470932389890, t1487252858601115654, t...</td>\n",
       "      <td>[1081, 1081, 1081, 1081, 1081, 1081, 1081, 108...</td>\n",
       "      <td>[45, 45, 45, 45, 45, 87, 87, 45, 45, 38, 45, 4...</td>\n",
       "      <td>[517113, 519716, 519756, 520466, 521028, 52109...</td>\n",
       "    </tr>\n",
       "    <tr>\n",
       "      <th>1</th>\n",
       "      <td>u1001476869454270464</td>\n",
       "      <td>[t1502840669722890240, t1502663597134077955, t...</td>\n",
       "      <td>[4879, 4879, 4879, 4879, 4879, 4879, 4879, 487...</td>\n",
       "      <td>[2, 3, 27, 32, 20, 28, 20, 23, 20, 12, 28, 27,...</td>\n",
       "      <td>[38497, 51642, 701280, 710571, 716942, 717290,...</td>\n",
       "    </tr>\n",
       "    <tr>\n",
       "      <th>2</th>\n",
       "      <td>u100182925</td>\n",
       "      <td>[t1491352634766561280, t1489548283056123906, t...</td>\n",
       "      <td>[1598, 1598, 1598, 1598, 1598, 1598, 1598, 159...</td>\n",
       "      <td>[34, 39, 33, 35, 37, 36, 34, 34, 39, 38, 39, 3...</td>\n",
       "      <td>[516397, 516476, 516747, 516779, 517956, 51824...</td>\n",
       "    </tr>\n",
       "    <tr>\n",
       "      <th>3</th>\n",
       "      <td>u100195084</td>\n",
       "      <td>[t1260878148691845123]</td>\n",
       "      <td>[6136]</td>\n",
       "      <td>[670]</td>\n",
       "      <td>[823559]</td>\n",
       "    </tr>\n",
       "    <tr>\n",
       "      <th>4</th>\n",
       "      <td>u1002058355974852608</td>\n",
       "      <td>[t1495890029561978886, t1495886245343473669, t...</td>\n",
       "      <td>[5194, 5194, 5194, 5194, 5194, 5194, 5194, 519...</td>\n",
       "      <td>[22, 22, 22, 22, 22, 22, 22, 22, 22, 22, 22, 2...</td>\n",
       "      <td>[812927, 816053, 817048, 818525, 821206, 82201...</td>\n",
       "    </tr>\n",
       "    <tr>\n",
       "      <th>...</th>\n",
       "      <td>...</td>\n",
       "      <td>...</td>\n",
       "      <td>...</td>\n",
       "      <td>...</td>\n",
       "      <td>...</td>\n",
       "    </tr>\n",
       "    <tr>\n",
       "      <th>8134</th>\n",
       "      <td>u99881380</td>\n",
       "      <td>[t1123461391644549121, t1059701095851798528, t...</td>\n",
       "      <td>[5286, 5286, 5286, 5286, 5286, 5286, 5286, 528...</td>\n",
       "      <td>[1049, 1225, 1240, 1194, 42, 129, 134, 37, 118...</td>\n",
       "      <td>[80605, 80728, 80757, 80937, 81438, 83246, 840...</td>\n",
       "    </tr>\n",
       "    <tr>\n",
       "      <th>8135</th>\n",
       "      <td>u999180747557634048</td>\n",
       "      <td>[t1358659806421131264, t1367010613923176448, t...</td>\n",
       "      <td>[2374, 2374, 2374, 2374, 2374, 2374, 2374, 237...</td>\n",
       "      <td>[400, 377, 378, 427, 445, 362, 353, 417, 45, 4...</td>\n",
       "      <td>[717743, 726325, 729113, 729385, 731731, 73588...</td>\n",
       "    </tr>\n",
       "    <tr>\n",
       "      <th>8136</th>\n",
       "      <td>u999192247206862855</td>\n",
       "      <td>[t1074091484469780481, t1059465755404759040, t...</td>\n",
       "      <td>[6003, 6003, 6003, 6003, 6003, 6003, 6003, 600...</td>\n",
       "      <td>[1186, 1226, 1228, 1161, 1208, 1210, 1223, 118...</td>\n",
       "      <td>[375592, 375673, 376057, 377598, 377826, 37941...</td>\n",
       "    </tr>\n",
       "    <tr>\n",
       "      <th>8137</th>\n",
       "      <td>u999256776213229570</td>\n",
       "      <td>[t1497817587081781248, t1494807056603308036, t...</td>\n",
       "      <td>[3830, 3830, 3830, 3830, 3830, 3830, 3830, 383...</td>\n",
       "      <td>[16, 25, 18, 14, 18, 19, 14, 14, 27, 9, 18, 13...</td>\n",
       "      <td>[83137, 84379, 86687, 89975, 96160, 97707, 987...</td>\n",
       "    </tr>\n",
       "    <tr>\n",
       "      <th>8138</th>\n",
       "      <td>u999616946</td>\n",
       "      <td>[t1499454658661789696, t1499356545188089856, t...</td>\n",
       "      <td>[5876, 5876, 5876, 5876, 5876, 5876, 5876, 587...</td>\n",
       "      <td>[12, 12, 12, 13, 12, 11, 12, 11, 13, 11, 13, 1...</td>\n",
       "      <td>[752, 1693, 2879, 3585, 3846, 4397, 5042, 9660...</td>\n",
       "    </tr>\n",
       "  </tbody>\n",
       "</table>\n",
       "<p>8139 rows × 5 columns</p>\n",
       "</div>"
      ],
      "text/plain": [
       "                       uid                                                 id  \\\n",
       "0     u1000214682530074624  [t1487251470932389890, t1487252858601115654, t...   \n",
       "1     u1001476869454270464  [t1502840669722890240, t1502663597134077955, t...   \n",
       "2               u100182925  [t1491352634766561280, t1489548283056123906, t...   \n",
       "3               u100195084                             [t1260878148691845123]   \n",
       "4     u1002058355974852608  [t1495890029561978886, t1495886245343473669, t...   \n",
       "...                    ...                                                ...   \n",
       "8134             u99881380  [t1123461391644549121, t1059701095851798528, t...   \n",
       "8135   u999180747557634048  [t1358659806421131264, t1367010613923176448, t...   \n",
       "8136   u999192247206862855  [t1074091484469780481, t1059465755404759040, t...   \n",
       "8137   u999256776213229570  [t1497817587081781248, t1494807056603308036, t...   \n",
       "8138            u999616946  [t1499454658661789696, t1499356545188089856, t...   \n",
       "\n",
       "                                                 uidMap  \\\n",
       "0     [1081, 1081, 1081, 1081, 1081, 1081, 1081, 108...   \n",
       "1     [4879, 4879, 4879, 4879, 4879, 4879, 4879, 487...   \n",
       "2     [1598, 1598, 1598, 1598, 1598, 1598, 1598, 159...   \n",
       "3                                                [6136]   \n",
       "4     [5194, 5194, 5194, 5194, 5194, 5194, 5194, 519...   \n",
       "...                                                 ...   \n",
       "8134  [5286, 5286, 5286, 5286, 5286, 5286, 5286, 528...   \n",
       "8135  [2374, 2374, 2374, 2374, 2374, 2374, 2374, 237...   \n",
       "8136  [6003, 6003, 6003, 6003, 6003, 6003, 6003, 600...   \n",
       "8137  [3830, 3830, 3830, 3830, 3830, 3830, 3830, 383...   \n",
       "8138  [5876, 5876, 5876, 5876, 5876, 5876, 5876, 587...   \n",
       "\n",
       "                                              countDays  \\\n",
       "0     [45, 45, 45, 45, 45, 87, 87, 45, 45, 38, 45, 4...   \n",
       "1     [2, 3, 27, 32, 20, 28, 20, 23, 20, 12, 28, 27,...   \n",
       "2     [34, 39, 33, 35, 37, 36, 34, 34, 39, 38, 39, 3...   \n",
       "3                                                 [670]   \n",
       "4     [22, 22, 22, 22, 22, 22, 22, 22, 22, 22, 22, 2...   \n",
       "...                                                 ...   \n",
       "8134  [1049, 1225, 1240, 1194, 42, 129, 134, 37, 118...   \n",
       "8135  [400, 377, 378, 427, 445, 362, 353, 417, 45, 4...   \n",
       "8136  [1186, 1226, 1228, 1161, 1208, 1210, 1223, 118...   \n",
       "8137  [16, 25, 18, 14, 18, 19, 14, 14, 27, 9, 18, 13...   \n",
       "8138  [12, 12, 12, 13, 12, 11, 12, 11, 13, 11, 13, 1...   \n",
       "\n",
       "                                                 tidMap  \n",
       "0     [517113, 519716, 519756, 520466, 521028, 52109...  \n",
       "1     [38497, 51642, 701280, 710571, 716942, 717290,...  \n",
       "2     [516397, 516476, 516747, 516779, 517956, 51824...  \n",
       "3                                              [823559]  \n",
       "4     [812927, 816053, 817048, 818525, 821206, 82201...  \n",
       "...                                                 ...  \n",
       "8134  [80605, 80728, 80757, 80937, 81438, 83246, 840...  \n",
       "8135  [717743, 726325, 729113, 729385, 731731, 73588...  \n",
       "8136  [375592, 375673, 376057, 377598, 377826, 37941...  \n",
       "8137  [83137, 84379, 86687, 89975, 96160, 97707, 987...  \n",
       "8138  [752, 1693, 2879, 3585, 3846, 4397, 5042, 9660...  \n",
       "\n",
       "[8139 rows x 5 columns]"
      ]
     },
     "execution_count": 13,
     "metadata": {},
     "output_type": "execute_result"
    }
   ],
   "source": [
    "dfTweetSet = dfTweet.groupby('uid', as_index=False).agg(list)\n",
    "dfTweetSet"
   ]
  },
  {
   "cell_type": "code",
   "execution_count": 14,
   "id": "76d92d99",
   "metadata": {},
   "outputs": [
    {
     "data": {
      "text/html": [
       "<div>\n",
       "<style scoped>\n",
       "    .dataframe tbody tr th:only-of-type {\n",
       "        vertical-align: middle;\n",
       "    }\n",
       "\n",
       "    .dataframe tbody tr th {\n",
       "        vertical-align: top;\n",
       "    }\n",
       "\n",
       "    .dataframe thead th {\n",
       "        text-align: right;\n",
       "    }\n",
       "</style>\n",
       "<table border=\"1\" class=\"dataframe\">\n",
       "  <thead>\n",
       "    <tr style=\"text-align: right;\">\n",
       "      <th></th>\n",
       "      <th>uid</th>\n",
       "      <th>id</th>\n",
       "      <th>uidMap</th>\n",
       "      <th>countDays</th>\n",
       "      <th>tidMap</th>\n",
       "    </tr>\n",
       "  </thead>\n",
       "  <tbody>\n",
       "    <tr>\n",
       "      <th>0</th>\n",
       "      <td>u1000214682530074624</td>\n",
       "      <td>[t1487251470932389890, t1487252858601115654, t...</td>\n",
       "      <td>1081</td>\n",
       "      <td>[45, 45, 45, 45, 45, 87, 87, 45, 45, 38, 45, 4...</td>\n",
       "      <td>[517113, 519716, 519756, 520466, 521028, 52109...</td>\n",
       "    </tr>\n",
       "    <tr>\n",
       "      <th>1</th>\n",
       "      <td>u1001476869454270464</td>\n",
       "      <td>[t1502840669722890240, t1502663597134077955, t...</td>\n",
       "      <td>4879</td>\n",
       "      <td>[2, 3, 27, 32, 20, 28, 20, 23, 20, 12, 28, 27,...</td>\n",
       "      <td>[38497, 51642, 701280, 710571, 716942, 717290,...</td>\n",
       "    </tr>\n",
       "    <tr>\n",
       "      <th>2</th>\n",
       "      <td>u100182925</td>\n",
       "      <td>[t1491352634766561280, t1489548283056123906, t...</td>\n",
       "      <td>1598</td>\n",
       "      <td>[34, 39, 33, 35, 37, 36, 34, 34, 39, 38, 39, 3...</td>\n",
       "      <td>[516397, 516476, 516747, 516779, 517956, 51824...</td>\n",
       "    </tr>\n",
       "    <tr>\n",
       "      <th>3</th>\n",
       "      <td>u100195084</td>\n",
       "      <td>[t1260878148691845123]</td>\n",
       "      <td>6136</td>\n",
       "      <td>[670]</td>\n",
       "      <td>[823559]</td>\n",
       "    </tr>\n",
       "    <tr>\n",
       "      <th>4</th>\n",
       "      <td>u1002058355974852608</td>\n",
       "      <td>[t1495890029561978886, t1495886245343473669, t...</td>\n",
       "      <td>5194</td>\n",
       "      <td>[22, 22, 22, 22, 22, 22, 22, 22, 22, 22, 22, 2...</td>\n",
       "      <td>[812927, 816053, 817048, 818525, 821206, 82201...</td>\n",
       "    </tr>\n",
       "    <tr>\n",
       "      <th>...</th>\n",
       "      <td>...</td>\n",
       "      <td>...</td>\n",
       "      <td>...</td>\n",
       "      <td>...</td>\n",
       "      <td>...</td>\n",
       "    </tr>\n",
       "    <tr>\n",
       "      <th>8134</th>\n",
       "      <td>u99881380</td>\n",
       "      <td>[t1123461391644549121, t1059701095851798528, t...</td>\n",
       "      <td>5286</td>\n",
       "      <td>[1049, 1225, 1240, 1194, 42, 129, 134, 37, 118...</td>\n",
       "      <td>[80605, 80728, 80757, 80937, 81438, 83246, 840...</td>\n",
       "    </tr>\n",
       "    <tr>\n",
       "      <th>8135</th>\n",
       "      <td>u999180747557634048</td>\n",
       "      <td>[t1358659806421131264, t1367010613923176448, t...</td>\n",
       "      <td>2374</td>\n",
       "      <td>[400, 377, 378, 427, 445, 362, 353, 417, 45, 4...</td>\n",
       "      <td>[717743, 726325, 729113, 729385, 731731, 73588...</td>\n",
       "    </tr>\n",
       "    <tr>\n",
       "      <th>8136</th>\n",
       "      <td>u999192247206862855</td>\n",
       "      <td>[t1074091484469780481, t1059465755404759040, t...</td>\n",
       "      <td>6003</td>\n",
       "      <td>[1186, 1226, 1228, 1161, 1208, 1210, 1223, 118...</td>\n",
       "      <td>[375592, 375673, 376057, 377598, 377826, 37941...</td>\n",
       "    </tr>\n",
       "    <tr>\n",
       "      <th>8137</th>\n",
       "      <td>u999256776213229570</td>\n",
       "      <td>[t1497817587081781248, t1494807056603308036, t...</td>\n",
       "      <td>3830</td>\n",
       "      <td>[16, 25, 18, 14, 18, 19, 14, 14, 27, 9, 18, 13...</td>\n",
       "      <td>[83137, 84379, 86687, 89975, 96160, 97707, 987...</td>\n",
       "    </tr>\n",
       "    <tr>\n",
       "      <th>8138</th>\n",
       "      <td>u999616946</td>\n",
       "      <td>[t1499454658661789696, t1499356545188089856, t...</td>\n",
       "      <td>5876</td>\n",
       "      <td>[12, 12, 12, 13, 12, 11, 12, 11, 13, 11, 13, 1...</td>\n",
       "      <td>[752, 1693, 2879, 3585, 3846, 4397, 5042, 9660...</td>\n",
       "    </tr>\n",
       "  </tbody>\n",
       "</table>\n",
       "<p>8139 rows × 5 columns</p>\n",
       "</div>"
      ],
      "text/plain": [
       "                       uid                                                 id  \\\n",
       "0     u1000214682530074624  [t1487251470932389890, t1487252858601115654, t...   \n",
       "1     u1001476869454270464  [t1502840669722890240, t1502663597134077955, t...   \n",
       "2               u100182925  [t1491352634766561280, t1489548283056123906, t...   \n",
       "3               u100195084                             [t1260878148691845123]   \n",
       "4     u1002058355974852608  [t1495890029561978886, t1495886245343473669, t...   \n",
       "...                    ...                                                ...   \n",
       "8134             u99881380  [t1123461391644549121, t1059701095851798528, t...   \n",
       "8135   u999180747557634048  [t1358659806421131264, t1367010613923176448, t...   \n",
       "8136   u999192247206862855  [t1074091484469780481, t1059465755404759040, t...   \n",
       "8137   u999256776213229570  [t1497817587081781248, t1494807056603308036, t...   \n",
       "8138            u999616946  [t1499454658661789696, t1499356545188089856, t...   \n",
       "\n",
       "      uidMap                                          countDays  \\\n",
       "0       1081  [45, 45, 45, 45, 45, 87, 87, 45, 45, 38, 45, 4...   \n",
       "1       4879  [2, 3, 27, 32, 20, 28, 20, 23, 20, 12, 28, 27,...   \n",
       "2       1598  [34, 39, 33, 35, 37, 36, 34, 34, 39, 38, 39, 3...   \n",
       "3       6136                                              [670]   \n",
       "4       5194  [22, 22, 22, 22, 22, 22, 22, 22, 22, 22, 22, 2...   \n",
       "...      ...                                                ...   \n",
       "8134    5286  [1049, 1225, 1240, 1194, 42, 129, 134, 37, 118...   \n",
       "8135    2374  [400, 377, 378, 427, 445, 362, 353, 417, 45, 4...   \n",
       "8136    6003  [1186, 1226, 1228, 1161, 1208, 1210, 1223, 118...   \n",
       "8137    3830  [16, 25, 18, 14, 18, 19, 14, 14, 27, 9, 18, 13...   \n",
       "8138    5876  [12, 12, 12, 13, 12, 11, 12, 11, 13, 11, 13, 1...   \n",
       "\n",
       "                                                 tidMap  \n",
       "0     [517113, 519716, 519756, 520466, 521028, 52109...  \n",
       "1     [38497, 51642, 701280, 710571, 716942, 717290,...  \n",
       "2     [516397, 516476, 516747, 516779, 517956, 51824...  \n",
       "3                                              [823559]  \n",
       "4     [812927, 816053, 817048, 818525, 821206, 82201...  \n",
       "...                                                 ...  \n",
       "8134  [80605, 80728, 80757, 80937, 81438, 83246, 840...  \n",
       "8135  [717743, 726325, 729113, 729385, 731731, 73588...  \n",
       "8136  [375592, 375673, 376057, 377598, 377826, 37941...  \n",
       "8137  [83137, 84379, 86687, 89975, 96160, 97707, 987...  \n",
       "8138  [752, 1693, 2879, 3585, 3846, 4397, 5042, 9660...  \n",
       "\n",
       "[8139 rows x 5 columns]"
      ]
     },
     "execution_count": 14,
     "metadata": {},
     "output_type": "execute_result"
    }
   ],
   "source": [
    "dfTweetSet['uidMap'] = dfTweetSet['uidMap'].apply(lambda x:x[0])\n",
    "dfTweetSet"
   ]
  },
  {
   "cell_type": "code",
   "execution_count": 15,
   "id": "68209612",
   "metadata": {},
   "outputs": [],
   "source": [
    "dfTweetSet = dfTweetSet.sort_values(by=['uidMap'])"
   ]
  },
  {
   "cell_type": "code",
   "execution_count": 16,
   "id": "acc3f019",
   "metadata": {},
   "outputs": [],
   "source": [
    "dfTweetSet['dayMin'] = dfTweetSet['countDays'].apply(min)\n",
    "dfTweetSet['dayMax'] = dfTweetSet['countDays'].apply(max)\n",
    "dfTweetSet['dayRange'] = dfTweetSet['dayMax'] - dfTweetSet['dayMin']\n",
    "rangeList = dfTweetSet['dayRange'].tolist()"
   ]
  },
  {
   "cell_type": "code",
   "execution_count": 17,
   "id": "5d68ed67",
   "metadata": {},
   "outputs": [],
   "source": [
    "edgeList1dayOri = [[], []]\n",
    "edgeList10dayOri = [[], []]\n",
    "edgeList20dayOri = [[], []]\n",
    "edgeList50dayOri = [[], []]\n",
    "num1day = []\n",
    "cat1day = []\n",
    "num10day = []\n",
    "cat10day = []\n",
    "num20day = []\n",
    "cat20day = []\n",
    "num50day = []\n",
    "cat50day = []"
   ]
  },
  {
   "cell_type": "code",
   "execution_count": 18,
   "id": "ada99bd5",
   "metadata": {},
   "outputs": [
    {
     "data": {
      "text/plain": [
       "[2008, 1526, 46, 1863, 0, 0, 828, 950, 643, 1757]"
      ]
     },
     "execution_count": 18,
     "metadata": {},
     "output_type": "execute_result"
    }
   ],
   "source": [
    "rangeList[:10]"
   ]
  },
  {
   "cell_type": "code",
   "execution_count": 19,
   "id": "0aa3c326",
   "metadata": {},
   "outputs": [],
   "source": [
    "dayLenList = [days + 1 for days in rangeList]"
   ]
  },
  {
   "cell_type": "code",
   "execution_count": 20,
   "id": "55f538de",
   "metadata": {},
   "outputs": [
    {
     "data": {
      "text/plain": [
       "torch.Size([984717, 12])"
      ]
     },
     "execution_count": 20,
     "metadata": {},
     "output_type": "execute_result"
    }
   ],
   "source": [
    "numFeatures.shape"
   ]
  },
  {
   "cell_type": "code",
   "execution_count": 21,
   "id": "0fc20527",
   "metadata": {},
   "outputs": [
    {
     "data": {
      "text/plain": [
       "torch.Size([984717, 14])"
      ]
     },
     "execution_count": 21,
     "metadata": {},
     "output_type": "execute_result"
    }
   ],
   "source": [
    "catFeatures.shape"
   ]
  },
  {
   "cell_type": "code",
   "execution_count": 22,
   "id": "729f8713",
   "metadata": {},
   "outputs": [
    {
     "data": {
      "text/plain": [
       "torch.Size([2, 3])"
      ]
     },
     "execution_count": 22,
     "metadata": {},
     "output_type": "execute_result"
    }
   ],
   "source": [
    "torch.tensor([[0, 0, 0], [0, 0, 0]]).shape"
   ]
  },
  {
   "cell_type": "code",
   "execution_count": 23,
   "id": "93c24710",
   "metadata": {},
   "outputs": [
    {
     "data": {
      "text/plain": [
       "[1, 0, 0]"
      ]
     },
     "execution_count": 23,
     "metadata": {},
     "output_type": "execute_result"
    }
   ],
   "source": [
    "l0 = [0] * 3\n",
    "l0[0] += 1\n",
    "l0"
   ]
  },
  {
   "cell_type": "code",
   "execution_count": 24,
   "id": "bff825ae",
   "metadata": {},
   "outputs": [
    {
     "data": {
      "text/plain": [
       "2"
      ]
     },
     "execution_count": 24,
     "metadata": {},
     "output_type": "execute_result"
    }
   ],
   "source": [
    "import math\n",
    "math.ceil(11/10)"
   ]
  },
  {
   "cell_type": "code",
   "execution_count": 25,
   "id": "fc3b0297",
   "metadata": {},
   "outputs": [
    {
     "data": {
      "text/plain": [
       "1"
      ]
     },
     "execution_count": 25,
     "metadata": {},
     "output_type": "execute_result"
    }
   ],
   "source": [
    "math.ceil(10/10)"
   ]
  },
  {
   "cell_type": "markdown",
   "id": "89998466",
   "metadata": {},
   "source": [
    "## 向上取整\n",
    "得到的结果应该是/inter之后的向上取整的数值，如果数值不对之后可能会很奇怪，最好不要有空白之类的"
   ]
  },
  {
   "cell_type": "code",
   "execution_count": 26,
   "id": "d81175ab",
   "metadata": {},
   "outputs": [],
   "source": [
    "NUM_NUM = numFeatures.shape[1]\n",
    "CAT_NUM = catFeatures.shape[1]"
   ]
  },
  {
   "cell_type": "code",
   "execution_count": 27,
   "id": "5d48b1b5",
   "metadata": {},
   "outputs": [
    {
     "data": {
      "text/plain": [
       "[[0, 0, 0], [0, 0, 0]]"
      ]
     },
     "execution_count": 27,
     "metadata": {},
     "output_type": "execute_result"
    }
   ],
   "source": [
    "[[0, 0, 0]] * 2"
   ]
  },
  {
   "cell_type": "code",
   "execution_count": 28,
   "id": "0f5de824",
   "metadata": {},
   "outputs": [],
   "source": [
    "num0 = [0] * 4\n",
    "num1 = [num0, num0]"
   ]
  },
  {
   "cell_type": "code",
   "execution_count": 29,
   "id": "1c98b40f",
   "metadata": {},
   "outputs": [
    {
     "data": {
      "text/plain": [
       "[[1, 0, 0, 0], [1, 0, 0, 0]]"
      ]
     },
     "execution_count": 29,
     "metadata": {},
     "output_type": "execute_result"
    }
   ],
   "source": [
    "num1[0][0] += 1\n",
    "num1"
   ]
  },
  {
   "cell_type": "code",
   "execution_count": 30,
   "id": "633a3f54",
   "metadata": {},
   "outputs": [],
   "source": [
    "edgeList1dayOri = [[], []]\n",
    "edgeList10dayOri = [[], []]\n",
    "edgeList20dayOri = [[], []]\n",
    "edgeList50dayOri = [[], []]\n",
    "num1day = []\n",
    "cat1day = []\n",
    "num10day = []\n",
    "cat10day = []\n",
    "num20day = []\n",
    "cat20day = []\n",
    "num50day = []\n",
    "cat50day = []\n",
    "start1day, start10day, start20day, start50day = 0, 0, 0, 0\n",
    "for day in dayLenList:\n",
    "    # feature matrix initialize\n",
    "    num1day += [[0] * NUM_NUM] * day\n",
    "    cat1day += [[0] * CAT_NUM] * day\n",
    "    day10 = math.ceil(day / 10)\n",
    "    day20 = math.ceil(day / 20)\n",
    "    day50 = math.ceil(day / 50)\n",
    "    num10day += [[0] * NUM_NUM] * day10\n",
    "    cat10day += [[0] * CAT_NUM] * day10\n",
    "    num20day += [[0] * NUM_NUM] * day20\n",
    "    cat20day += [[0] * CAT_NUM] * day20\n",
    "    num50day += [[0] * NUM_NUM] * day50\n",
    "    cat50day += [[0] * CAT_NUM] * day50\n",
    "    # get original edge information\n",
    "    edgeList1dayOri[0] += list(range(start1day, start1day + day - 1))\n",
    "    edgeList1dayOri[1] += list(range(start1day + 1, start1day + day))\n",
    "    edgeList10dayOri[0] += list(range(start10day, start10day + day10 - 1))\n",
    "    edgeList10dayOri[1] += list(range(start10day + 1, start10day + day10))\n",
    "    edgeList20dayOri[0] += list(range(start20day, start20day + day20 - 1))\n",
    "    edgeList20dayOri[1] += list(range(start20day + 1, start20day + day20))\n",
    "    edgeList50dayOri[0] += list(range(start50day, start50day + day50 - 1))\n",
    "    edgeList50dayOri[1] += list(range(start50day + 1, start50day + day50))\n",
    "    # update start day information\n",
    "    start1day += day\n",
    "    start10day += day10\n",
    "    start20day += day20\n",
    "    start50day += day50"
   ]
  },
  {
   "cell_type": "code",
   "execution_count": 31,
   "id": "29aa87bb",
   "metadata": {},
   "outputs": [
    {
     "data": {
      "text/plain": [
       "4837817"
      ]
     },
     "execution_count": 31,
     "metadata": {},
     "output_type": "execute_result"
    }
   ],
   "source": [
    "len(num1day)"
   ]
  },
  {
   "cell_type": "code",
   "execution_count": 32,
   "id": "a15ce6e4",
   "metadata": {},
   "outputs": [
    {
     "data": {
      "text/plain": [
       "4829678"
      ]
     },
     "execution_count": 32,
     "metadata": {},
     "output_type": "execute_result"
    }
   ],
   "source": [
    "len(edgeList1dayOri[0])"
   ]
  },
  {
   "cell_type": "code",
   "execution_count": 33,
   "id": "75b323b8",
   "metadata": {},
   "outputs": [
    {
     "data": {
      "text/plain": [
       "479404"
      ]
     },
     "execution_count": 33,
     "metadata": {},
     "output_type": "execute_result"
    }
   ],
   "source": [
    "len(edgeList10dayOri[0])"
   ]
  },
  {
   "cell_type": "code",
   "execution_count": 34,
   "id": "e470bfbc",
   "metadata": {},
   "outputs": [
    {
     "data": {
      "text/plain": [
       "237721"
      ]
     },
     "execution_count": 34,
     "metadata": {},
     "output_type": "execute_result"
    }
   ],
   "source": [
    "len(edgeList20dayOri[0])"
   ]
  },
  {
   "cell_type": "code",
   "execution_count": 35,
   "id": "264af513",
   "metadata": {},
   "outputs": [
    {
     "data": {
      "text/plain": [
       "92810"
      ]
     },
     "execution_count": 35,
     "metadata": {},
     "output_type": "execute_result"
    }
   ],
   "source": [
    "len(edgeList50dayOri[0])"
   ]
  },
  {
   "cell_type": "code",
   "execution_count": 36,
   "id": "74ccaf21",
   "metadata": {},
   "outputs": [
    {
     "data": {
      "text/plain": [
       "12"
      ]
     },
     "execution_count": 36,
     "metadata": {},
     "output_type": "execute_result"
    }
   ],
   "source": [
    "len(num1day[0])"
   ]
  },
  {
   "cell_type": "code",
   "execution_count": 127,
   "id": "a539210a",
   "metadata": {},
   "outputs": [
    {
     "name": "stderr",
     "output_type": "stream",
     "text": [
      "/var/folders/pk/9j79n0j97l96355kp67lwjxr0000gn/T/ipykernel_41033/3677302870.py:2: UserWarning: To copy construct from a tensor, it is recommended to use sourceTensor.clone().detach() or sourceTensor.clone().detach().requires_grad_(True), rather than torch.tensor(sourceTensor).\n",
      "  return torch.tensor(t0, dtype=torch.float32)\n"
     ]
    },
    {
     "data": {
      "text/plain": [
       "tensor([[0., 0., 0.,  ..., 0., 0., 0.],\n",
       "        [0., 0., 0.,  ..., 0., 0., 0.],\n",
       "        [0., 0., 0.,  ..., 0., 0., 0.],\n",
       "        ...,\n",
       "        [0., 0., 0.,  ..., 0., 0., 0.],\n",
       "        [0., 0., 0.,  ..., 0., 0., 0.],\n",
       "        [0., 0., 0.,  ..., 0., 0., 0.]])"
      ]
     },
     "execution_count": 127,
     "metadata": {},
     "output_type": "execute_result"
    }
   ],
   "source": [
    "def getTensor(t0):\n",
    "    return torch.tensor(t0, dtype=torch.float32)\n",
    "num1day = getTensor(num1day)\n",
    "num1day"
   ]
  },
  {
   "cell_type": "code",
   "execution_count": 128,
   "id": "d99a93fd",
   "metadata": {},
   "outputs": [
    {
     "data": {
      "text/plain": [
       "torch.Size([4837817, 12])"
      ]
     },
     "execution_count": 128,
     "metadata": {},
     "output_type": "execute_result"
    }
   ],
   "source": [
    "num1day.shape"
   ]
  },
  {
   "cell_type": "code",
   "execution_count": 129,
   "id": "9ca8e5d5",
   "metadata": {},
   "outputs": [
    {
     "name": "stderr",
     "output_type": "stream",
     "text": [
      "/var/folders/pk/9j79n0j97l96355kp67lwjxr0000gn/T/ipykernel_41033/3677302870.py:2: UserWarning: To copy construct from a tensor, it is recommended to use sourceTensor.clone().detach() or sourceTensor.clone().detach().requires_grad_(True), rather than torch.tensor(sourceTensor).\n",
      "  return torch.tensor(t0, dtype=torch.float32)\n"
     ]
    }
   ],
   "source": [
    "cat1day = getTensor(cat1day)\n",
    "num10day = getTensor(num10day)\n",
    "cat10day = getTensor(cat10day)\n",
    "num20day = getTensor(num20day)\n",
    "cat20day = getTensor(cat20day)\n",
    "num50day = getTensor(num50day)\n",
    "cat50day = getTensor(cat50day)"
   ]
  },
  {
   "cell_type": "code",
   "execution_count": 106,
   "id": "8815d30a",
   "metadata": {},
   "outputs": [],
   "source": [
    "torch.save(num1day, partPath + 'num1day.pt')\n",
    "torch.save(cat1day, partPath + 'cat1day.pt')\n",
    "torch.save(num10day, partPath + 'num10day.pt')\n",
    "torch.save(cat10day, partPath + 'cat10day.pt')\n",
    "torch.save(num20day, partPath + 'num20day.pt')\n",
    "torch.save(cat20day, partPath + 'cat20day.pt')\n",
    "torch.save(num50day, partPath + 'num50day.pt')\n",
    "torch.save(cat50day, partPath + 'cat50day.pt')"
   ]
  },
  {
   "cell_type": "markdown",
   "id": "cc70396d",
   "metadata": {},
   "source": [
    "## remain task: aggregate data & add reply and other edge info\n",
    "### aggregate data"
   ]
  },
  {
   "cell_type": "code",
   "execution_count": 107,
   "id": "7725e27f",
   "metadata": {},
   "outputs": [
    {
     "data": {
      "text/html": [
       "<div>\n",
       "<style scoped>\n",
       "    .dataframe tbody tr th:only-of-type {\n",
       "        vertical-align: middle;\n",
       "    }\n",
       "\n",
       "    .dataframe tbody tr th {\n",
       "        vertical-align: top;\n",
       "    }\n",
       "\n",
       "    .dataframe thead th {\n",
       "        text-align: right;\n",
       "    }\n",
       "</style>\n",
       "<table border=\"1\" class=\"dataframe\">\n",
       "  <thead>\n",
       "    <tr style=\"text-align: right;\">\n",
       "      <th></th>\n",
       "      <th>uid</th>\n",
       "      <th>id</th>\n",
       "      <th>uidMap</th>\n",
       "      <th>countDays</th>\n",
       "      <th>tidMap</th>\n",
       "      <th>dayMin</th>\n",
       "      <th>dayMax</th>\n",
       "      <th>dayRange</th>\n",
       "      <th>count10day</th>\n",
       "      <th>count20day</th>\n",
       "      <th>count50day</th>\n",
       "    </tr>\n",
       "  </thead>\n",
       "  <tbody>\n",
       "    <tr>\n",
       "      <th>7147</th>\n",
       "      <td>u771758047412748288</td>\n",
       "      <td>[t968552557307195393, t1484691801902620676, t1...</td>\n",
       "      <td>0</td>\n",
       "      <td>[1477, 52, 328, 1035, 334, 330, 2020, 72, 222,...</td>\n",
       "      <td>[82013, 84348, 84801, 86893, 89539, 89675, 904...</td>\n",
       "      <td>12</td>\n",
       "      <td>2020</td>\n",
       "      <td>2008</td>\n",
       "      <td>[147, 5, 32, 103, 33, 33, 202, 7, 22, 31, 3, 1...</td>\n",
       "      <td>[73, 2, 16, 51, 16, 16, 101, 3, 11, 15, 1, 6, ...</td>\n",
       "      <td>[29, 1, 6, 20, 6, 6, 40, 1, 4, 6, 0, 2, 6, 6, ...</td>\n",
       "    </tr>\n",
       "    <tr>\n",
       "      <th>7553</th>\n",
       "      <td>u86020763</td>\n",
       "      <td>[t6296873895, t27437350015, t32218780471095705...</td>\n",
       "      <td>1</td>\n",
       "      <td>[4485, 4169, 3260, 3408, 4515, 3038, 3806, 432...</td>\n",
       "      <td>[80302, 80569, 82268, 82359, 82550, 82597, 828...</td>\n",
       "      <td>2994</td>\n",
       "      <td>4520</td>\n",
       "      <td>1526</td>\n",
       "      <td>[448, 416, 326, 340, 451, 303, 380, 432, 383, ...</td>\n",
       "      <td>[224, 208, 163, 170, 225, 151, 190, 216, 191, ...</td>\n",
       "      <td>[89, 83, 65, 68, 90, 60, 76, 86, 76, 60, 70, 7...</td>\n",
       "    </tr>\n",
       "    <tr>\n",
       "      <th>21</th>\n",
       "      <td>u1004440668763230210</td>\n",
       "      <td>[t1024212295092789248, t1023258628327923712, t...</td>\n",
       "      <td>2</td>\n",
       "      <td>[1323, 1326, 1323, 1325, 1337, 1369, 1337, 1323]</td>\n",
       "      <td>[81841, 85277, 93473, 105209, 116850, 117892, ...</td>\n",
       "      <td>1323</td>\n",
       "      <td>1369</td>\n",
       "      <td>46</td>\n",
       "      <td>[132, 132, 132, 132, 133, 136, 133, 132]</td>\n",
       "      <td>[66, 66, 66, 66, 66, 68, 66, 66]</td>\n",
       "      <td>[26, 26, 26, 26, 26, 27, 26, 26]</td>\n",
       "    </tr>\n",
       "    <tr>\n",
       "      <th>4276</th>\n",
       "      <td>u2522772534</td>\n",
       "      <td>[t897975690850598917, t815620028905177089, t92...</td>\n",
       "      <td>3</td>\n",
       "      <td>[1671, 1899, 1609, 1385, 1901, 1900, 1876, 188...</td>\n",
       "      <td>[79988, 80062, 80112, 80193, 80491, 80637, 807...</td>\n",
       "      <td>48</td>\n",
       "      <td>1911</td>\n",
       "      <td>1863</td>\n",
       "      <td>[167, 189, 160, 138, 190, 190, 187, 188, 162, ...</td>\n",
       "      <td>[83, 94, 80, 69, 95, 95, 93, 94, 81, 93, 59, 6...</td>\n",
       "      <td>[33, 37, 32, 27, 38, 38, 37, 37, 32, 37, 23, 2...</td>\n",
       "    </tr>\n",
       "    <tr>\n",
       "      <th>2450</th>\n",
       "      <td>u1375112149157216258</td>\n",
       "      <td>[t1462435130291728393]</td>\n",
       "      <td>4</td>\n",
       "      <td>[114]</td>\n",
       "      <td>[207564]</td>\n",
       "      <td>114</td>\n",
       "      <td>114</td>\n",
       "      <td>0</td>\n",
       "      <td>[11]</td>\n",
       "      <td>[5]</td>\n",
       "      <td>[2]</td>\n",
       "    </tr>\n",
       "    <tr>\n",
       "      <th>...</th>\n",
       "      <td>...</td>\n",
       "      <td>...</td>\n",
       "      <td>...</td>\n",
       "      <td>...</td>\n",
       "      <td>...</td>\n",
       "      <td>...</td>\n",
       "      <td>...</td>\n",
       "      <td>...</td>\n",
       "      <td>...</td>\n",
       "      <td>...</td>\n",
       "      <td>...</td>\n",
       "    </tr>\n",
       "    <tr>\n",
       "      <th>7532</th>\n",
       "      <td>u855444364771942400</td>\n",
       "      <td>[t1445094680518172691]</td>\n",
       "      <td>8688</td>\n",
       "      <td>[162]</td>\n",
       "      <td>[415509]</td>\n",
       "      <td>162</td>\n",
       "      <td>162</td>\n",
       "      <td>0</td>\n",
       "      <td>[16]</td>\n",
       "      <td>[8]</td>\n",
       "      <td>[3]</td>\n",
       "    </tr>\n",
       "    <tr>\n",
       "      <th>1385</th>\n",
       "      <td>u1257389639318585345</td>\n",
       "      <td>[t1502764262204321793, t1495819872428826631, t...</td>\n",
       "      <td>8689</td>\n",
       "      <td>[3, 22, 24, 27, 22, 32, 29, 32, 23, 24, 22, 27...</td>\n",
       "      <td>[75837, 520757, 521325, 521513, 522219, 523197...</td>\n",
       "      <td>3</td>\n",
       "      <td>207</td>\n",
       "      <td>204</td>\n",
       "      <td>[0, 2, 2, 2, 2, 3, 2, 3, 2, 2, 2, 2, 2, 1, 3, ...</td>\n",
       "      <td>[0, 1, 1, 1, 1, 1, 1, 1, 1, 1, 1, 1, 1, 0, 1, ...</td>\n",
       "      <td>[0, 0, 0, 0, 0, 0, 0, 0, 0, 0, 0, 0, 0, 0, 0, ...</td>\n",
       "    </tr>\n",
       "    <tr>\n",
       "      <th>1428</th>\n",
       "      <td>u1262205160983605250</td>\n",
       "      <td>[t1494755763897745419, t1494274109643145222, t...</td>\n",
       "      <td>8690</td>\n",
       "      <td>[25, 26, 20, 23, 32, 25, 35, 24, 23, 29, 44, 3...</td>\n",
       "      <td>[811338, 814784, 815484, 816126, 817017, 81859...</td>\n",
       "      <td>20</td>\n",
       "      <td>44</td>\n",
       "      <td>24</td>\n",
       "      <td>[2, 2, 2, 2, 3, 2, 3, 2, 2, 2, 4, 3, 3, 2, 4, ...</td>\n",
       "      <td>[1, 1, 1, 1, 1, 1, 1, 1, 1, 1, 2, 1, 1, 1, 2, ...</td>\n",
       "      <td>[0, 0, 0, 0, 0, 0, 0, 0, 0, 0, 0, 0, 0, 0, 0, ...</td>\n",
       "    </tr>\n",
       "    <tr>\n",
       "      <th>5714</th>\n",
       "      <td>u398927679</td>\n",
       "      <td>[t1495849266589351939, t1495847359326179334, t...</td>\n",
       "      <td>8691</td>\n",
       "      <td>[22, 22, 22, 22, 22, 22, 22, 22, 20, 22, 22, 2...</td>\n",
       "      <td>[2212, 2732, 3609, 3788, 4867, 7626, 7973, 939...</td>\n",
       "      <td>6</td>\n",
       "      <td>751</td>\n",
       "      <td>745</td>\n",
       "      <td>[2, 2, 2, 2, 2, 2, 2, 2, 2, 2, 2, 2, 2, 2, 2, ...</td>\n",
       "      <td>[1, 1, 1, 1, 1, 1, 1, 1, 1, 1, 1, 1, 1, 1, 1, ...</td>\n",
       "      <td>[0, 0, 0, 0, 0, 0, 0, 0, 0, 0, 0, 0, 0, 0, 0, ...</td>\n",
       "    </tr>\n",
       "    <tr>\n",
       "      <th>4447</th>\n",
       "      <td>u26490474</td>\n",
       "      <td>[t1487517811211739136, t1484027823807508485, t...</td>\n",
       "      <td>8693</td>\n",
       "      <td>[45, 54, 29, 69, 69, 60, 60, 60, 60, 69, 70, 6...</td>\n",
       "      <td>[719284, 719448, 727447, 728056, 728177, 73559...</td>\n",
       "      <td>1</td>\n",
       "      <td>1581</td>\n",
       "      <td>1580</td>\n",
       "      <td>[4, 5, 2, 6, 6, 6, 6, 6, 6, 6, 7, 6, 2, 6, 2, ...</td>\n",
       "      <td>[2, 2, 1, 3, 3, 3, 3, 3, 3, 3, 3, 3, 1, 3, 1, ...</td>\n",
       "      <td>[0, 1, 0, 1, 1, 1, 1, 1, 1, 1, 1, 1, 0, 1, 0, ...</td>\n",
       "    </tr>\n",
       "  </tbody>\n",
       "</table>\n",
       "<p>8139 rows × 11 columns</p>\n",
       "</div>"
      ],
      "text/plain": [
       "                       uid                                                 id  \\\n",
       "7147   u771758047412748288  [t968552557307195393, t1484691801902620676, t1...   \n",
       "7553             u86020763  [t6296873895, t27437350015, t32218780471095705...   \n",
       "21    u1004440668763230210  [t1024212295092789248, t1023258628327923712, t...   \n",
       "4276           u2522772534  [t897975690850598917, t815620028905177089, t92...   \n",
       "2450  u1375112149157216258                             [t1462435130291728393]   \n",
       "...                    ...                                                ...   \n",
       "7532   u855444364771942400                             [t1445094680518172691]   \n",
       "1385  u1257389639318585345  [t1502764262204321793, t1495819872428826631, t...   \n",
       "1428  u1262205160983605250  [t1494755763897745419, t1494274109643145222, t...   \n",
       "5714            u398927679  [t1495849266589351939, t1495847359326179334, t...   \n",
       "4447             u26490474  [t1487517811211739136, t1484027823807508485, t...   \n",
       "\n",
       "      uidMap                                          countDays  \\\n",
       "7147       0  [1477, 52, 328, 1035, 334, 330, 2020, 72, 222,...   \n",
       "7553       1  [4485, 4169, 3260, 3408, 4515, 3038, 3806, 432...   \n",
       "21         2   [1323, 1326, 1323, 1325, 1337, 1369, 1337, 1323]   \n",
       "4276       3  [1671, 1899, 1609, 1385, 1901, 1900, 1876, 188...   \n",
       "2450       4                                              [114]   \n",
       "...      ...                                                ...   \n",
       "7532    8688                                              [162]   \n",
       "1385    8689  [3, 22, 24, 27, 22, 32, 29, 32, 23, 24, 22, 27...   \n",
       "1428    8690  [25, 26, 20, 23, 32, 25, 35, 24, 23, 29, 44, 3...   \n",
       "5714    8691  [22, 22, 22, 22, 22, 22, 22, 22, 20, 22, 22, 2...   \n",
       "4447    8693  [45, 54, 29, 69, 69, 60, 60, 60, 60, 69, 70, 6...   \n",
       "\n",
       "                                                 tidMap  dayMin  dayMax  \\\n",
       "7147  [82013, 84348, 84801, 86893, 89539, 89675, 904...      12    2020   \n",
       "7553  [80302, 80569, 82268, 82359, 82550, 82597, 828...    2994    4520   \n",
       "21    [81841, 85277, 93473, 105209, 116850, 117892, ...    1323    1369   \n",
       "4276  [79988, 80062, 80112, 80193, 80491, 80637, 807...      48    1911   \n",
       "2450                                           [207564]     114     114   \n",
       "...                                                 ...     ...     ...   \n",
       "7532                                           [415509]     162     162   \n",
       "1385  [75837, 520757, 521325, 521513, 522219, 523197...       3     207   \n",
       "1428  [811338, 814784, 815484, 816126, 817017, 81859...      20      44   \n",
       "5714  [2212, 2732, 3609, 3788, 4867, 7626, 7973, 939...       6     751   \n",
       "4447  [719284, 719448, 727447, 728056, 728177, 73559...       1    1581   \n",
       "\n",
       "      dayRange                                         count10day  \\\n",
       "7147      2008  [147, 5, 32, 103, 33, 33, 202, 7, 22, 31, 3, 1...   \n",
       "7553      1526  [448, 416, 326, 340, 451, 303, 380, 432, 383, ...   \n",
       "21          46           [132, 132, 132, 132, 133, 136, 133, 132]   \n",
       "4276      1863  [167, 189, 160, 138, 190, 190, 187, 188, 162, ...   \n",
       "2450         0                                               [11]   \n",
       "...        ...                                                ...   \n",
       "7532         0                                               [16]   \n",
       "1385       204  [0, 2, 2, 2, 2, 3, 2, 3, 2, 2, 2, 2, 2, 1, 3, ...   \n",
       "1428        24  [2, 2, 2, 2, 3, 2, 3, 2, 2, 2, 4, 3, 3, 2, 4, ...   \n",
       "5714       745  [2, 2, 2, 2, 2, 2, 2, 2, 2, 2, 2, 2, 2, 2, 2, ...   \n",
       "4447      1580  [4, 5, 2, 6, 6, 6, 6, 6, 6, 6, 7, 6, 2, 6, 2, ...   \n",
       "\n",
       "                                             count20day  \\\n",
       "7147  [73, 2, 16, 51, 16, 16, 101, 3, 11, 15, 1, 6, ...   \n",
       "7553  [224, 208, 163, 170, 225, 151, 190, 216, 191, ...   \n",
       "21                     [66, 66, 66, 66, 66, 68, 66, 66]   \n",
       "4276  [83, 94, 80, 69, 95, 95, 93, 94, 81, 93, 59, 6...   \n",
       "2450                                                [5]   \n",
       "...                                                 ...   \n",
       "7532                                                [8]   \n",
       "1385  [0, 1, 1, 1, 1, 1, 1, 1, 1, 1, 1, 1, 1, 0, 1, ...   \n",
       "1428  [1, 1, 1, 1, 1, 1, 1, 1, 1, 1, 2, 1, 1, 1, 2, ...   \n",
       "5714  [1, 1, 1, 1, 1, 1, 1, 1, 1, 1, 1, 1, 1, 1, 1, ...   \n",
       "4447  [2, 2, 1, 3, 3, 3, 3, 3, 3, 3, 3, 3, 1, 3, 1, ...   \n",
       "\n",
       "                                             count50day  \n",
       "7147  [29, 1, 6, 20, 6, 6, 40, 1, 4, 6, 0, 2, 6, 6, ...  \n",
       "7553  [89, 83, 65, 68, 90, 60, 76, 86, 76, 60, 70, 7...  \n",
       "21                     [26, 26, 26, 26, 26, 27, 26, 26]  \n",
       "4276  [33, 37, 32, 27, 38, 38, 37, 37, 32, 37, 23, 2...  \n",
       "2450                                                [2]  \n",
       "...                                                 ...  \n",
       "7532                                                [3]  \n",
       "1385  [0, 0, 0, 0, 0, 0, 0, 0, 0, 0, 0, 0, 0, 0, 0, ...  \n",
       "1428  [0, 0, 0, 0, 0, 0, 0, 0, 0, 0, 0, 0, 0, 0, 0, ...  \n",
       "5714  [0, 0, 0, 0, 0, 0, 0, 0, 0, 0, 0, 0, 0, 0, 0, ...  \n",
       "4447  [0, 1, 0, 1, 1, 1, 1, 1, 1, 1, 1, 1, 0, 1, 0, ...  \n",
       "\n",
       "[8139 rows x 11 columns]"
      ]
     },
     "execution_count": 107,
     "metadata": {},
     "output_type": "execute_result"
    }
   ],
   "source": [
    "dfTweetSet"
   ]
  },
  {
   "cell_type": "code",
   "execution_count": 108,
   "id": "d1694486",
   "metadata": {},
   "outputs": [
    {
     "data": {
      "text/plain": [
       "[0, 1, 1]"
      ]
     },
     "execution_count": 108,
     "metadata": {},
     "output_type": "execute_result"
    }
   ],
   "source": [
    "def getInters(dayList, inters):\n",
    "    return list([day // inters for day in dayList])\n",
    "getInters([1, 10, 11], 10)"
   ]
  },
  {
   "cell_type": "code",
   "execution_count": 109,
   "id": "91536106",
   "metadata": {},
   "outputs": [],
   "source": [
    "dfTweetSet['count10day'] = dfTweetSet['countDays'].apply(lambda x: getInters(x, 10))\n",
    "dfTweetSet['count20day'] = dfTweetSet['countDays'].apply(lambda x: getInters(x, 20))\n",
    "dfTweetSet['count50day'] = dfTweetSet['countDays'].apply(lambda x: getInters(x, 50))"
   ]
  },
  {
   "cell_type": "code",
   "execution_count": 110,
   "id": "c6731aba",
   "metadata": {},
   "outputs": [
    {
     "data": {
      "text/html": [
       "<div>\n",
       "<style scoped>\n",
       "    .dataframe tbody tr th:only-of-type {\n",
       "        vertical-align: middle;\n",
       "    }\n",
       "\n",
       "    .dataframe tbody tr th {\n",
       "        vertical-align: top;\n",
       "    }\n",
       "\n",
       "    .dataframe thead th {\n",
       "        text-align: right;\n",
       "    }\n",
       "</style>\n",
       "<table border=\"1\" class=\"dataframe\">\n",
       "  <thead>\n",
       "    <tr style=\"text-align: right;\">\n",
       "      <th></th>\n",
       "      <th>uid</th>\n",
       "      <th>id</th>\n",
       "      <th>uidMap</th>\n",
       "      <th>countDays</th>\n",
       "      <th>tidMap</th>\n",
       "      <th>dayMin</th>\n",
       "      <th>dayMax</th>\n",
       "      <th>dayRange</th>\n",
       "      <th>count10day</th>\n",
       "      <th>count20day</th>\n",
       "      <th>count50day</th>\n",
       "    </tr>\n",
       "  </thead>\n",
       "  <tbody>\n",
       "    <tr>\n",
       "      <th>7147</th>\n",
       "      <td>u771758047412748288</td>\n",
       "      <td>[t968552557307195393, t1484691801902620676, t1...</td>\n",
       "      <td>0</td>\n",
       "      <td>[1477, 52, 328, 1035, 334, 330, 2020, 72, 222,...</td>\n",
       "      <td>[82013, 84348, 84801, 86893, 89539, 89675, 904...</td>\n",
       "      <td>12</td>\n",
       "      <td>2020</td>\n",
       "      <td>2008</td>\n",
       "      <td>[147, 5, 32, 103, 33, 33, 202, 7, 22, 31, 3, 1...</td>\n",
       "      <td>[73, 2, 16, 51, 16, 16, 101, 3, 11, 15, 1, 6, ...</td>\n",
       "      <td>[29, 1, 6, 20, 6, 6, 40, 1, 4, 6, 0, 2, 6, 6, ...</td>\n",
       "    </tr>\n",
       "    <tr>\n",
       "      <th>7553</th>\n",
       "      <td>u86020763</td>\n",
       "      <td>[t6296873895, t27437350015, t32218780471095705...</td>\n",
       "      <td>1</td>\n",
       "      <td>[4485, 4169, 3260, 3408, 4515, 3038, 3806, 432...</td>\n",
       "      <td>[80302, 80569, 82268, 82359, 82550, 82597, 828...</td>\n",
       "      <td>2994</td>\n",
       "      <td>4520</td>\n",
       "      <td>1526</td>\n",
       "      <td>[448, 416, 326, 340, 451, 303, 380, 432, 383, ...</td>\n",
       "      <td>[224, 208, 163, 170, 225, 151, 190, 216, 191, ...</td>\n",
       "      <td>[89, 83, 65, 68, 90, 60, 76, 86, 76, 60, 70, 7...</td>\n",
       "    </tr>\n",
       "    <tr>\n",
       "      <th>21</th>\n",
       "      <td>u1004440668763230210</td>\n",
       "      <td>[t1024212295092789248, t1023258628327923712, t...</td>\n",
       "      <td>2</td>\n",
       "      <td>[1323, 1326, 1323, 1325, 1337, 1369, 1337, 1323]</td>\n",
       "      <td>[81841, 85277, 93473, 105209, 116850, 117892, ...</td>\n",
       "      <td>1323</td>\n",
       "      <td>1369</td>\n",
       "      <td>46</td>\n",
       "      <td>[132, 132, 132, 132, 133, 136, 133, 132]</td>\n",
       "      <td>[66, 66, 66, 66, 66, 68, 66, 66]</td>\n",
       "      <td>[26, 26, 26, 26, 26, 27, 26, 26]</td>\n",
       "    </tr>\n",
       "    <tr>\n",
       "      <th>4276</th>\n",
       "      <td>u2522772534</td>\n",
       "      <td>[t897975690850598917, t815620028905177089, t92...</td>\n",
       "      <td>3</td>\n",
       "      <td>[1671, 1899, 1609, 1385, 1901, 1900, 1876, 188...</td>\n",
       "      <td>[79988, 80062, 80112, 80193, 80491, 80637, 807...</td>\n",
       "      <td>48</td>\n",
       "      <td>1911</td>\n",
       "      <td>1863</td>\n",
       "      <td>[167, 189, 160, 138, 190, 190, 187, 188, 162, ...</td>\n",
       "      <td>[83, 94, 80, 69, 95, 95, 93, 94, 81, 93, 59, 6...</td>\n",
       "      <td>[33, 37, 32, 27, 38, 38, 37, 37, 32, 37, 23, 2...</td>\n",
       "    </tr>\n",
       "    <tr>\n",
       "      <th>2450</th>\n",
       "      <td>u1375112149157216258</td>\n",
       "      <td>[t1462435130291728393]</td>\n",
       "      <td>4</td>\n",
       "      <td>[114]</td>\n",
       "      <td>[207564]</td>\n",
       "      <td>114</td>\n",
       "      <td>114</td>\n",
       "      <td>0</td>\n",
       "      <td>[11]</td>\n",
       "      <td>[5]</td>\n",
       "      <td>[2]</td>\n",
       "    </tr>\n",
       "    <tr>\n",
       "      <th>...</th>\n",
       "      <td>...</td>\n",
       "      <td>...</td>\n",
       "      <td>...</td>\n",
       "      <td>...</td>\n",
       "      <td>...</td>\n",
       "      <td>...</td>\n",
       "      <td>...</td>\n",
       "      <td>...</td>\n",
       "      <td>...</td>\n",
       "      <td>...</td>\n",
       "      <td>...</td>\n",
       "    </tr>\n",
       "    <tr>\n",
       "      <th>7532</th>\n",
       "      <td>u855444364771942400</td>\n",
       "      <td>[t1445094680518172691]</td>\n",
       "      <td>8688</td>\n",
       "      <td>[162]</td>\n",
       "      <td>[415509]</td>\n",
       "      <td>162</td>\n",
       "      <td>162</td>\n",
       "      <td>0</td>\n",
       "      <td>[16]</td>\n",
       "      <td>[8]</td>\n",
       "      <td>[3]</td>\n",
       "    </tr>\n",
       "    <tr>\n",
       "      <th>1385</th>\n",
       "      <td>u1257389639318585345</td>\n",
       "      <td>[t1502764262204321793, t1495819872428826631, t...</td>\n",
       "      <td>8689</td>\n",
       "      <td>[3, 22, 24, 27, 22, 32, 29, 32, 23, 24, 22, 27...</td>\n",
       "      <td>[75837, 520757, 521325, 521513, 522219, 523197...</td>\n",
       "      <td>3</td>\n",
       "      <td>207</td>\n",
       "      <td>204</td>\n",
       "      <td>[0, 2, 2, 2, 2, 3, 2, 3, 2, 2, 2, 2, 2, 1, 3, ...</td>\n",
       "      <td>[0, 1, 1, 1, 1, 1, 1, 1, 1, 1, 1, 1, 1, 0, 1, ...</td>\n",
       "      <td>[0, 0, 0, 0, 0, 0, 0, 0, 0, 0, 0, 0, 0, 0, 0, ...</td>\n",
       "    </tr>\n",
       "    <tr>\n",
       "      <th>1428</th>\n",
       "      <td>u1262205160983605250</td>\n",
       "      <td>[t1494755763897745419, t1494274109643145222, t...</td>\n",
       "      <td>8690</td>\n",
       "      <td>[25, 26, 20, 23, 32, 25, 35, 24, 23, 29, 44, 3...</td>\n",
       "      <td>[811338, 814784, 815484, 816126, 817017, 81859...</td>\n",
       "      <td>20</td>\n",
       "      <td>44</td>\n",
       "      <td>24</td>\n",
       "      <td>[2, 2, 2, 2, 3, 2, 3, 2, 2, 2, 4, 3, 3, 2, 4, ...</td>\n",
       "      <td>[1, 1, 1, 1, 1, 1, 1, 1, 1, 1, 2, 1, 1, 1, 2, ...</td>\n",
       "      <td>[0, 0, 0, 0, 0, 0, 0, 0, 0, 0, 0, 0, 0, 0, 0, ...</td>\n",
       "    </tr>\n",
       "    <tr>\n",
       "      <th>5714</th>\n",
       "      <td>u398927679</td>\n",
       "      <td>[t1495849266589351939, t1495847359326179334, t...</td>\n",
       "      <td>8691</td>\n",
       "      <td>[22, 22, 22, 22, 22, 22, 22, 22, 20, 22, 22, 2...</td>\n",
       "      <td>[2212, 2732, 3609, 3788, 4867, 7626, 7973, 939...</td>\n",
       "      <td>6</td>\n",
       "      <td>751</td>\n",
       "      <td>745</td>\n",
       "      <td>[2, 2, 2, 2, 2, 2, 2, 2, 2, 2, 2, 2, 2, 2, 2, ...</td>\n",
       "      <td>[1, 1, 1, 1, 1, 1, 1, 1, 1, 1, 1, 1, 1, 1, 1, ...</td>\n",
       "      <td>[0, 0, 0, 0, 0, 0, 0, 0, 0, 0, 0, 0, 0, 0, 0, ...</td>\n",
       "    </tr>\n",
       "    <tr>\n",
       "      <th>4447</th>\n",
       "      <td>u26490474</td>\n",
       "      <td>[t1487517811211739136, t1484027823807508485, t...</td>\n",
       "      <td>8693</td>\n",
       "      <td>[45, 54, 29, 69, 69, 60, 60, 60, 60, 69, 70, 6...</td>\n",
       "      <td>[719284, 719448, 727447, 728056, 728177, 73559...</td>\n",
       "      <td>1</td>\n",
       "      <td>1581</td>\n",
       "      <td>1580</td>\n",
       "      <td>[4, 5, 2, 6, 6, 6, 6, 6, 6, 6, 7, 6, 2, 6, 2, ...</td>\n",
       "      <td>[2, 2, 1, 3, 3, 3, 3, 3, 3, 3, 3, 3, 1, 3, 1, ...</td>\n",
       "      <td>[0, 1, 0, 1, 1, 1, 1, 1, 1, 1, 1, 1, 0, 1, 0, ...</td>\n",
       "    </tr>\n",
       "  </tbody>\n",
       "</table>\n",
       "<p>8139 rows × 11 columns</p>\n",
       "</div>"
      ],
      "text/plain": [
       "                       uid                                                 id  \\\n",
       "7147   u771758047412748288  [t968552557307195393, t1484691801902620676, t1...   \n",
       "7553             u86020763  [t6296873895, t27437350015, t32218780471095705...   \n",
       "21    u1004440668763230210  [t1024212295092789248, t1023258628327923712, t...   \n",
       "4276           u2522772534  [t897975690850598917, t815620028905177089, t92...   \n",
       "2450  u1375112149157216258                             [t1462435130291728393]   \n",
       "...                    ...                                                ...   \n",
       "7532   u855444364771942400                             [t1445094680518172691]   \n",
       "1385  u1257389639318585345  [t1502764262204321793, t1495819872428826631, t...   \n",
       "1428  u1262205160983605250  [t1494755763897745419, t1494274109643145222, t...   \n",
       "5714            u398927679  [t1495849266589351939, t1495847359326179334, t...   \n",
       "4447             u26490474  [t1487517811211739136, t1484027823807508485, t...   \n",
       "\n",
       "      uidMap                                          countDays  \\\n",
       "7147       0  [1477, 52, 328, 1035, 334, 330, 2020, 72, 222,...   \n",
       "7553       1  [4485, 4169, 3260, 3408, 4515, 3038, 3806, 432...   \n",
       "21         2   [1323, 1326, 1323, 1325, 1337, 1369, 1337, 1323]   \n",
       "4276       3  [1671, 1899, 1609, 1385, 1901, 1900, 1876, 188...   \n",
       "2450       4                                              [114]   \n",
       "...      ...                                                ...   \n",
       "7532    8688                                              [162]   \n",
       "1385    8689  [3, 22, 24, 27, 22, 32, 29, 32, 23, 24, 22, 27...   \n",
       "1428    8690  [25, 26, 20, 23, 32, 25, 35, 24, 23, 29, 44, 3...   \n",
       "5714    8691  [22, 22, 22, 22, 22, 22, 22, 22, 20, 22, 22, 2...   \n",
       "4447    8693  [45, 54, 29, 69, 69, 60, 60, 60, 60, 69, 70, 6...   \n",
       "\n",
       "                                                 tidMap  dayMin  dayMax  \\\n",
       "7147  [82013, 84348, 84801, 86893, 89539, 89675, 904...      12    2020   \n",
       "7553  [80302, 80569, 82268, 82359, 82550, 82597, 828...    2994    4520   \n",
       "21    [81841, 85277, 93473, 105209, 116850, 117892, ...    1323    1369   \n",
       "4276  [79988, 80062, 80112, 80193, 80491, 80637, 807...      48    1911   \n",
       "2450                                           [207564]     114     114   \n",
       "...                                                 ...     ...     ...   \n",
       "7532                                           [415509]     162     162   \n",
       "1385  [75837, 520757, 521325, 521513, 522219, 523197...       3     207   \n",
       "1428  [811338, 814784, 815484, 816126, 817017, 81859...      20      44   \n",
       "5714  [2212, 2732, 3609, 3788, 4867, 7626, 7973, 939...       6     751   \n",
       "4447  [719284, 719448, 727447, 728056, 728177, 73559...       1    1581   \n",
       "\n",
       "      dayRange                                         count10day  \\\n",
       "7147      2008  [147, 5, 32, 103, 33, 33, 202, 7, 22, 31, 3, 1...   \n",
       "7553      1526  [448, 416, 326, 340, 451, 303, 380, 432, 383, ...   \n",
       "21          46           [132, 132, 132, 132, 133, 136, 133, 132]   \n",
       "4276      1863  [167, 189, 160, 138, 190, 190, 187, 188, 162, ...   \n",
       "2450         0                                               [11]   \n",
       "...        ...                                                ...   \n",
       "7532         0                                               [16]   \n",
       "1385       204  [0, 2, 2, 2, 2, 3, 2, 3, 2, 2, 2, 2, 2, 1, 3, ...   \n",
       "1428        24  [2, 2, 2, 2, 3, 2, 3, 2, 2, 2, 4, 3, 3, 2, 4, ...   \n",
       "5714       745  [2, 2, 2, 2, 2, 2, 2, 2, 2, 2, 2, 2, 2, 2, 2, ...   \n",
       "4447      1580  [4, 5, 2, 6, 6, 6, 6, 6, 6, 6, 7, 6, 2, 6, 2, ...   \n",
       "\n",
       "                                             count20day  \\\n",
       "7147  [73, 2, 16, 51, 16, 16, 101, 3, 11, 15, 1, 6, ...   \n",
       "7553  [224, 208, 163, 170, 225, 151, 190, 216, 191, ...   \n",
       "21                     [66, 66, 66, 66, 66, 68, 66, 66]   \n",
       "4276  [83, 94, 80, 69, 95, 95, 93, 94, 81, 93, 59, 6...   \n",
       "2450                                                [5]   \n",
       "...                                                 ...   \n",
       "7532                                                [8]   \n",
       "1385  [0, 1, 1, 1, 1, 1, 1, 1, 1, 1, 1, 1, 1, 0, 1, ...   \n",
       "1428  [1, 1, 1, 1, 1, 1, 1, 1, 1, 1, 2, 1, 1, 1, 2, ...   \n",
       "5714  [1, 1, 1, 1, 1, 1, 1, 1, 1, 1, 1, 1, 1, 1, 1, ...   \n",
       "4447  [2, 2, 1, 3, 3, 3, 3, 3, 3, 3, 3, 3, 1, 3, 1, ...   \n",
       "\n",
       "                                             count50day  \n",
       "7147  [29, 1, 6, 20, 6, 6, 40, 1, 4, 6, 0, 2, 6, 6, ...  \n",
       "7553  [89, 83, 65, 68, 90, 60, 76, 86, 76, 60, 70, 7...  \n",
       "21                     [26, 26, 26, 26, 26, 27, 26, 26]  \n",
       "4276  [33, 37, 32, 27, 38, 38, 37, 37, 32, 37, 23, 2...  \n",
       "2450                                                [2]  \n",
       "...                                                 ...  \n",
       "7532                                                [3]  \n",
       "1385  [0, 0, 0, 0, 0, 0, 0, 0, 0, 0, 0, 0, 0, 0, 0, ...  \n",
       "1428  [0, 0, 0, 0, 0, 0, 0, 0, 0, 0, 0, 0, 0, 0, 0, ...  \n",
       "5714  [0, 0, 0, 0, 0, 0, 0, 0, 0, 0, 0, 0, 0, 0, 0, ...  \n",
       "4447  [0, 1, 0, 1, 1, 1, 1, 1, 1, 1, 1, 1, 0, 1, 0, ...  \n",
       "\n",
       "[8139 rows x 11 columns]"
      ]
     },
     "execution_count": 110,
     "metadata": {},
     "output_type": "execute_result"
    }
   ],
   "source": [
    "dfTweetSet"
   ]
  },
  {
   "cell_type": "code",
   "execution_count": 111,
   "id": "04b32a23",
   "metadata": {},
   "outputs": [
    {
     "data": {
      "text/plain": [
       "torch.Size([487543, 12])"
      ]
     },
     "execution_count": 111,
     "metadata": {},
     "output_type": "execute_result"
    }
   ],
   "source": [
    "num10day.shape"
   ]
  },
  {
   "cell_type": "code",
   "execution_count": 112,
   "id": "93eafb3d",
   "metadata": {},
   "outputs": [],
   "source": [
    "count1day = dfTweetSet['countDays'].tolist()\n",
    "count10day = dfTweetSet['count10day'].tolist()\n",
    "count20day = dfTweetSet['count20day'].tolist()\n",
    "count50day = dfTweetSet['count50day'].tolist()"
   ]
  },
  {
   "cell_type": "code",
   "execution_count": 113,
   "id": "50fb73e9",
   "metadata": {},
   "outputs": [],
   "source": [
    "tid1day = {}\n",
    "tid10day = {}\n",
    "tid20day = {}\n",
    "tid50day = {}"
   ]
  },
  {
   "cell_type": "code",
   "execution_count": 114,
   "id": "09ca2714",
   "metadata": {},
   "outputs": [],
   "source": [
    "tidMapList = dfTweetSet['tidMap'].tolist()"
   ]
  },
  {
   "cell_type": "code",
   "execution_count": 115,
   "id": "10e525ee",
   "metadata": {},
   "outputs": [
    {
     "data": {
      "text/plain": [
       "{1: [10, 20], 3: [30]}"
      ]
     },
     "execution_count": 115,
     "metadata": {},
     "output_type": "execute_result"
    }
   ],
   "source": [
    "def gettidmap(idList, dayList):\n",
    "    dayMap = {}\n",
    "    for i in range(len(idList)):\n",
    "        tid0 = idList[i]\n",
    "        day0 = dayList[i]\n",
    "        if day0 not in dayMap.keys():\n",
    "            dayMap[day0] = [tid0]\n",
    "        else:\n",
    "            dayMap[day0].append(tid0)\n",
    "    return dayMap\n",
    "\n",
    "gettidmap([10, 20, 30], [1, 1, 3])"
   ]
  },
  {
   "cell_type": "code",
   "execution_count": 116,
   "id": "ae35a567",
   "metadata": {},
   "outputs": [
    {
     "data": {
      "text/plain": [
       "{1477: [82013],\n",
       " 52: [84348, 128462],\n",
       " 328: [84801],\n",
       " 1035: [86893],\n",
       " 334: [89539],\n",
       " 330: [89675, 99733, 106665],\n",
       " 2020: [90492, 166957],\n",
       " 72: [92017, 182219],\n",
       " 222: [92519, 192561],\n",
       " 318: [94279, 98388, 192233],\n",
       " 37: [95697],\n",
       " 138: [97614, 194764, 225148],\n",
       " 45: [101036],\n",
       " 333: [101704, 115200],\n",
       " 63: [103107, 103295],\n",
       " 1668: [103590],\n",
       " 327: [104700, 110432, 120321],\n",
       " 948: [105658],\n",
       " 315: [112437, 198301, 229839],\n",
       " 244: [119502],\n",
       " 547: [120776],\n",
       " 378: [123303],\n",
       " 313: [124711, 211694],\n",
       " 270: [130446],\n",
       " 1595: [130809],\n",
       " 50: [132478],\n",
       " 283: [132748],\n",
       " 284: [136712, 198775, 218261],\n",
       " 444: [138257],\n",
       " 1188: [140512],\n",
       " 1720: [142882],\n",
       " 1285: [143252],\n",
       " 310: [146498, 154032, 167138, 174961, 176349, 182320],\n",
       " 112: [147919, 195110],\n",
       " 1591: [150063],\n",
       " 280: [152766],\n",
       " 232: [156230],\n",
       " 1522: [156584],\n",
       " 76: [158597],\n",
       " 137: [159984],\n",
       " 42: [165916, 195214, 227051],\n",
       " 262: [166865],\n",
       " 329: [172110],\n",
       " 233: [173838],\n",
       " 324: [176535, 187032],\n",
       " 1852: [176891, 186768],\n",
       " 292: [181609],\n",
       " 319: [190262, 194678],\n",
       " 1859: [192164],\n",
       " 1992: [195038],\n",
       " 1577: [196992],\n",
       " 1602: [200000],\n",
       " 311: [204575],\n",
       " 73: [205427, 208628, 228126],\n",
       " 325: [209694, 226707],\n",
       " 1761: [213178],\n",
       " 170: [227613],\n",
       " 19: [672775],\n",
       " 12: [676996, 686138],\n",
       " 33: [683167],\n",
       " 30: [713873]}"
      ]
     },
     "execution_count": 116,
     "metadata": {},
     "output_type": "execute_result"
    }
   ],
   "source": [
    "map1dayList = [gettidmap(tidMapList[i], count1day[i]) for i in range(len(tidMapList))]\n",
    "map1dayList[0]"
   ]
  },
  {
   "cell_type": "code",
   "execution_count": 117,
   "id": "0ca34799",
   "metadata": {},
   "outputs": [
    {
     "data": {
      "text/plain": [
       "tensor([[0.4459, 0.2632, 0.1680, 0.8846],\n",
       "        [0.4001, 0.1476, 0.9897, 0.2228],\n",
       "        [0.9142, 0.7298, 0.8217, 0.7162]])"
      ]
     },
     "execution_count": 117,
     "metadata": {},
     "output_type": "execute_result"
    }
   ],
   "source": [
    "a = torch.rand((3, 4))\n",
    "a"
   ]
  },
  {
   "cell_type": "code",
   "execution_count": 118,
   "id": "c1838888",
   "metadata": {},
   "outputs": [
    {
     "data": {
      "text/plain": [
       "tensor([1., 1., 1., 1.])"
      ]
     },
     "execution_count": 118,
     "metadata": {},
     "output_type": "execute_result"
    }
   ],
   "source": [
    "b = torch.ones(4)\n",
    "b"
   ]
  },
  {
   "cell_type": "code",
   "execution_count": 119,
   "id": "62792739",
   "metadata": {},
   "outputs": [
    {
     "data": {
      "text/plain": [
       "tensor([[1.4459, 1.2632, 1.1680, 1.8846],\n",
       "        [0.4001, 0.1476, 0.9897, 0.2228],\n",
       "        [0.9142, 0.7298, 0.8217, 0.7162]])"
      ]
     },
     "execution_count": 119,
     "metadata": {},
     "output_type": "execute_result"
    }
   ],
   "source": [
    "a[0] += b\n",
    "a"
   ]
  },
  {
   "cell_type": "code",
   "execution_count": 120,
   "id": "b096c0af",
   "metadata": {},
   "outputs": [],
   "source": [
    "map10dayList = [gettidmap(tidMapList[i], count10day[i]) for i in range(len(tidMapList))]\n",
    "map20dayList = [gettidmap(tidMapList[i], count20day[i]) for i in range(len(tidMapList))]\n",
    "map50dayList = [gettidmap(tidMapList[i], count50day[i]) for i in range(len(tidMapList))]"
   ]
  },
  {
   "cell_type": "code",
   "execution_count": 121,
   "id": "380acb91",
   "metadata": {},
   "outputs": [
    {
     "data": {
      "text/plain": [
       "[12, 2994, 1323, 48, 114, 1064, 42, 11, 10, 2]"
      ]
     },
     "execution_count": 121,
     "metadata": {},
     "output_type": "execute_result"
    }
   ],
   "source": [
    "dayMinList = dfTweetSet['dayMin'].tolist()\n",
    "dayMinList[:10]"
   ]
  },
  {
   "cell_type": "code",
   "execution_count": 122,
   "id": "12711d8f",
   "metadata": {},
   "outputs": [
    {
     "data": {
      "text/plain": [
       "(tensor([1.0000e+00, 6.6667e-01, 5.3333e+00, 3.3333e-01, 0.0000e+00, 0.0000e+00,\n",
       "         6.6667e-01, 0.0000e+00, 5.1000e+01, 7.3533e+02, 1.1667e+01, 4.2000e+01]),\n",
       " tensor([0.3333, 0.0000, 1.0000, 1.0000, 0.0000, 0.6667, 0.0000, 0.6667, 1.0000,\n",
       "         1.0000, 0.0000, 1.0000, 0.0000, 0.0000]))"
      ]
     },
     "execution_count": 122,
     "metadata": {},
     "output_type": "execute_result"
    }
   ],
   "source": [
    "def getFeatures(idList):\n",
    "    num = len(idList)\n",
    "    num0 = torch.zeros(NUM_NUM, dtype=torch.float32)\n",
    "    cat0 = torch.zeros(CAT_NUM, dtype=torch.float32)\n",
    "    for tid in idList:\n",
    "        num0 += numFeatures[tid]\n",
    "        cat0 += catFeatures[tid]\n",
    "    num0 /= num\n",
    "    cat0 /= num\n",
    "    return num0, cat0\n",
    "\n",
    "getFeatures([89675, 99733, 106665])"
   ]
  },
  {
   "cell_type": "code",
   "execution_count": 123,
   "id": "d69190c1",
   "metadata": {},
   "outputs": [
    {
     "data": {
      "text/plain": [
       "(tensor([  3,   2,  13,   1,   0,   0,   2,   0,  94, 676,  11,  42]),\n",
       " tensor([  0,   0,   2,   0,   0,   0,   0,   0,  32, 113,   1,  42]),\n",
       " tensor([   0,    0,    1,    0,    0,    0,    0,    0,   27, 1417,   23,   42]))"
      ]
     },
     "execution_count": 123,
     "metadata": {},
     "output_type": "execute_result"
    }
   ],
   "source": [
    "numFeatures[89675], numFeatures[99733], numFeatures[106665]"
   ]
  },
  {
   "cell_type": "code",
   "execution_count": 124,
   "id": "abe648dc",
   "metadata": {},
   "outputs": [
    {
     "data": {
      "text/plain": [
       "(tensor([1, 0, 1, 1, 0, 0, 0, 0, 1, 1, 0, 1, 0, 0]),\n",
       " tensor([0, 0, 1, 1, 0, 1, 0, 1, 1, 1, 0, 1, 0, 0]),\n",
       " tensor([0, 0, 1, 1, 0, 1, 0, 1, 1, 1, 0, 1, 0, 0]))"
      ]
     },
     "execution_count": 124,
     "metadata": {},
     "output_type": "execute_result"
    }
   ],
   "source": [
    "catFeatures[89675], catFeatures[99733], catFeatures[106665]"
   ]
  },
  {
   "cell_type": "code",
   "execution_count": 125,
   "id": "9caf3a0a",
   "metadata": {},
   "outputs": [
    {
     "data": {
      "text/plain": [
       "2009"
      ]
     },
     "execution_count": 125,
     "metadata": {},
     "output_type": "execute_result"
    }
   ],
   "source": [
    "dayLenList[0]"
   ]
  },
  {
   "cell_type": "code",
   "execution_count": 131,
   "id": "09188860",
   "metadata": {},
   "outputs": [
    {
     "data": {
      "text/plain": [
       "12"
      ]
     },
     "execution_count": 131,
     "metadata": {},
     "output_type": "execute_result"
    }
   ],
   "source": [
    "dayMinList[0]"
   ]
  },
  {
   "cell_type": "code",
   "execution_count": 133,
   "id": "664f1192",
   "metadata": {},
   "outputs": [],
   "source": [
    "min1days = [min(days) for days in count1day]\n",
    "min10days = [min(days) for days in count10day]\n",
    "min20days = [min(days) for days in count20day]\n",
    "min50days = [min(days) for days in count50day]"
   ]
  },
  {
   "cell_type": "code",
   "execution_count": 134,
   "id": "c20699bf",
   "metadata": {},
   "outputs": [
    {
     "name": "stderr",
     "output_type": "stream",
     "text": [
      "100%|█████████████████████████████████████████████████████████████████████████████████| 8139/8139 [00:36<00:00, 222.21it/s]\n"
     ]
    }
   ],
   "source": [
    "start1day = 0\n",
    "start10day = 0\n",
    "start20day = 0\n",
    "start50day = 0\n",
    "from tqdm import trange\n",
    "for i in trange(len(tidMapList)):\n",
    "    min1day, min10day, min20day, min50day = min1days[i], min10days[i], min20days[i], min50days[i]\n",
    "    map1day = map1dayList[i]\n",
    "    for day in map1day.keys():\n",
    "        num0, cat0 = getFeatures(map1day[day])\n",
    "        day0 = day - min1day\n",
    "        num1day[start1day + day0] += num0\n",
    "        cat1day[start1day + day0] += cat0\n",
    "    map10day = map10dayList[i]\n",
    "    for day in map10day.keys():\n",
    "        num0, cat0 = getFeatures(map10day[day])\n",
    "        day0 = day - min10day\n",
    "        num10day[start10day + day0] += num0\n",
    "        cat10day[start10day + day0] += cat0\n",
    "    map20day = map20dayList[i]\n",
    "    for day in map20day.keys():\n",
    "        num0, cat0 = getFeatures(map20day[day])\n",
    "        day0 = day - min20day\n",
    "        num20day[start20day + day0] += num0\n",
    "        cat20day[start20day + day0] += cat0\n",
    "    map50day = map50dayList[i]\n",
    "    for day in map50day.keys():\n",
    "        num0, cat0 = getFeatures(map50day[day])\n",
    "        day0 = day - min50day\n",
    "        num50day[start50day + day0] += num0\n",
    "        cat50day[start50day + day0] += cat0\n",
    "    # update index info\n",
    "    day0 = dayLenList[i]\n",
    "    day10 = math.ceil(day0 / 10)\n",
    "    day20 = math.ceil(day0 / 20)\n",
    "    day50 = math.ceil(day0 / 50)\n",
    "    start1day += day0\n",
    "    start10day += day10\n",
    "    start20day += day20\n",
    "    start50day += day50"
   ]
  },
  {
   "cell_type": "code",
   "execution_count": 135,
   "id": "3fb33e8f",
   "metadata": {},
   "outputs": [
    {
     "data": {
      "text/plain": [
       "tensor([4.0000e+00, 0.0000e+00, 9.5000e+00, 0.0000e+00, 0.0000e+00, 5.0000e-01,\n",
       "        0.0000e+00, 5.0000e-01, 7.2500e+01, 7.6300e+02, 1.2000e+01, 4.2000e+01])"
      ]
     },
     "execution_count": 135,
     "metadata": {},
     "output_type": "execute_result"
    }
   ],
   "source": [
    "num1day[0]"
   ]
  },
  {
   "cell_type": "code",
   "execution_count": 136,
   "id": "2b3149df",
   "metadata": {},
   "outputs": [
    {
     "data": {
      "text/plain": [
       "tensor([0., 0., 0., 0., 0., 0., 0., 0., 0., 0., 0., 0.])"
      ]
     },
     "execution_count": 136,
     "metadata": {},
     "output_type": "execute_result"
    }
   ],
   "source": [
    "num1day[1]"
   ]
  },
  {
   "cell_type": "code",
   "execution_count": 137,
   "id": "cb86603d",
   "metadata": {},
   "outputs": [],
   "source": [
    "torch.save(num1day, partPath + 'num1day.pt')\n",
    "torch.save(cat1day, partPath + 'cat1day.pt')\n",
    "torch.save(num10day, partPath + 'num10day.pt')\n",
    "torch.save(cat10day, partPath + 'cat10day.pt')\n",
    "torch.save(num20day, partPath + 'num20day.pt')\n",
    "torch.save(cat20day, partPath + 'cat20day.pt')\n",
    "torch.save(num50day, partPath + 'num50day.pt')\n",
    "torch.save(cat50day, partPath + 'cat50day.pt')"
   ]
  },
  {
   "cell_type": "markdown",
   "id": "a2af4717",
   "metadata": {},
   "source": [
    "## add full edges\n",
    "1. build tid-node index map\n",
    "2. add edge info"
   ]
  },
  {
   "cell_type": "code",
   "execution_count": 138,
   "id": "62103c91",
   "metadata": {},
   "outputs": [],
   "source": [
    "tidNodeMap1 = {}\n",
    "tidNodeMap10 = {}\n",
    "tidNodeMap20 = {}\n",
    "tidNodeMap50 = {}"
   ]
  },
  {
   "cell_type": "code",
   "execution_count": 141,
   "id": "9790d773",
   "metadata": {},
   "outputs": [
    {
     "name": "stderr",
     "output_type": "stream",
     "text": [
      "100%|███████████████████████████████████████████████████████████████████████████████| 8139/8139 [00:00<00:00, 11128.58it/s]\n"
     ]
    }
   ],
   "source": [
    "start1day = 0\n",
    "start10day = 0\n",
    "start20day = 0\n",
    "start50day = 0\n",
    "for i in trange(len(dayLenList)):\n",
    "    min1day, min10day, min20day, min50day = min1days[i], min10days[i], min20days[i], min50days[i]\n",
    "    tids = tidMapList[i]\n",
    "    days1 = count1day[i]\n",
    "    days10 = count10day[i]\n",
    "    days20 = count20day[i]\n",
    "    days50 = count50day[i]\n",
    "    for j in range(len(tids)):\n",
    "        tid0 = tids[j]\n",
    "        day1 = days1[j]\n",
    "        day10 = days10[j]\n",
    "        day20 = days20[j]\n",
    "        day50 = days50[j]\n",
    "        tidNodeMap1[tid0] = start1day + day1 - min1day\n",
    "        tidNodeMap10[tid0] = start10day + day10 - min10day\n",
    "        tidNodeMap20[tid0] = start20day + day20 - min20day\n",
    "        tidNodeMap50[tid0] = start50day + day50 - min50day\n",
    "    # update index info\n",
    "    day0 = dayLenList[i]\n",
    "    day10 = math.ceil(day0 / 10)\n",
    "    day20 = math.ceil(day0 / 20)\n",
    "    day50 = math.ceil(day0 / 50)\n",
    "    start1day += day0\n",
    "    start10day += day10\n",
    "    start20day += day20\n",
    "    start50day += day50"
   ]
  },
  {
   "cell_type": "code",
   "execution_count": 142,
   "id": "097b3910",
   "metadata": {},
   "outputs": [
    {
     "data": {
      "text/plain": [
       "984717"
      ]
     },
     "execution_count": 142,
     "metadata": {},
     "output_type": "execute_result"
    }
   ],
   "source": [
    "len(tidNodeMap1.keys())"
   ]
  },
  {
   "cell_type": "code",
   "execution_count": 143,
   "id": "c4eaa97d",
   "metadata": {},
   "outputs": [
    {
     "data": {
      "text/plain": [
       "0"
      ]
     },
     "execution_count": 143,
     "metadata": {},
     "output_type": "execute_result"
    }
   ],
   "source": [
    "tidNodeMap1[686138]"
   ]
  },
  {
   "cell_type": "code",
   "execution_count": 145,
   "id": "107f834f",
   "metadata": {},
   "outputs": [
    {
     "data": {
      "text/plain": [
       "18"
      ]
     },
     "execution_count": 145,
     "metadata": {},
     "output_type": "execute_result"
    }
   ],
   "source": [
    "tidNodeMap1[713873]"
   ]
  },
  {
   "cell_type": "code",
   "execution_count": 147,
   "id": "b92bfff9",
   "metadata": {},
   "outputs": [
    {
     "data": {
      "text/plain": [
       "984717"
      ]
     },
     "execution_count": 147,
     "metadata": {},
     "output_type": "execute_result"
    }
   ],
   "source": [
    "len(tidNodeMap10.keys())"
   ]
  },
  {
   "cell_type": "code",
   "execution_count": 148,
   "id": "dddc566c",
   "metadata": {},
   "outputs": [
    {
     "data": {
      "text/html": [
       "<div>\n",
       "<style scoped>\n",
       "    .dataframe tbody tr th:only-of-type {\n",
       "        vertical-align: middle;\n",
       "    }\n",
       "\n",
       "    .dataframe tbody tr th {\n",
       "        vertical-align: top;\n",
       "    }\n",
       "\n",
       "    .dataframe thead th {\n",
       "        text-align: right;\n",
       "    }\n",
       "</style>\n",
       "<table border=\"1\" class=\"dataframe\">\n",
       "  <thead>\n",
       "    <tr style=\"text-align: right;\">\n",
       "      <th></th>\n",
       "      <th>source_id</th>\n",
       "      <th>relation</th>\n",
       "      <th>target_id</th>\n",
       "    </tr>\n",
       "  </thead>\n",
       "  <tbody>\n",
       "    <tr>\n",
       "      <th>0</th>\n",
       "      <td>u1012124895088726016</td>\n",
       "      <td>following</td>\n",
       "      <td>u1599552121</td>\n",
       "    </tr>\n",
       "    <tr>\n",
       "      <th>1</th>\n",
       "      <td>u152731757</td>\n",
       "      <td>following</td>\n",
       "      <td>u30026226</td>\n",
       "    </tr>\n",
       "    <tr>\n",
       "      <th>2</th>\n",
       "      <td>u799145528</td>\n",
       "      <td>following</td>\n",
       "      <td>u2397208592</td>\n",
       "    </tr>\n",
       "    <tr>\n",
       "      <th>3</th>\n",
       "      <td>u902120672</td>\n",
       "      <td>following</td>\n",
       "      <td>u225189569</td>\n",
       "    </tr>\n",
       "    <tr>\n",
       "      <th>4</th>\n",
       "      <td>u799145528</td>\n",
       "      <td>following</td>\n",
       "      <td>u1108640256474132480</td>\n",
       "    </tr>\n",
       "    <tr>\n",
       "      <th>...</th>\n",
       "      <td>...</td>\n",
       "      <td>...</td>\n",
       "      <td>...</td>\n",
       "    </tr>\n",
       "    <tr>\n",
       "      <th>1027306</th>\n",
       "      <td>t1263338516915859457</td>\n",
       "      <td>retweeted</td>\n",
       "      <td>t1263228699484262400</td>\n",
       "    </tr>\n",
       "    <tr>\n",
       "      <th>1027307</th>\n",
       "      <td>t1464800121028292611</td>\n",
       "      <td>retweeted</td>\n",
       "      <td>t1464795723900276740</td>\n",
       "    </tr>\n",
       "    <tr>\n",
       "      <th>1027308</th>\n",
       "      <td>t1421439998654615553</td>\n",
       "      <td>retweeted</td>\n",
       "      <td>t1421438967887585283</td>\n",
       "    </tr>\n",
       "    <tr>\n",
       "      <th>1027309</th>\n",
       "      <td>t506421397824880640</td>\n",
       "      <td>retweeted</td>\n",
       "      <td>t506388938915729408</td>\n",
       "    </tr>\n",
       "    <tr>\n",
       "      <th>1027310</th>\n",
       "      <td>t1488516374548856835</td>\n",
       "      <td>replied_to</td>\n",
       "      <td>t1488469083460976642</td>\n",
       "    </tr>\n",
       "  </tbody>\n",
       "</table>\n",
       "<p>1027311 rows × 3 columns</p>\n",
       "</div>"
      ],
      "text/plain": [
       "                    source_id    relation             target_id\n",
       "0        u1012124895088726016   following           u1599552121\n",
       "1                  u152731757   following             u30026226\n",
       "2                  u799145528   following           u2397208592\n",
       "3                  u902120672   following            u225189569\n",
       "4                  u799145528   following  u1108640256474132480\n",
       "...                       ...         ...                   ...\n",
       "1027306  t1263338516915859457   retweeted  t1263228699484262400\n",
       "1027307  t1464800121028292611   retweeted  t1464795723900276740\n",
       "1027308  t1421439998654615553   retweeted  t1421438967887585283\n",
       "1027309   t506421397824880640   retweeted   t506388938915729408\n",
       "1027310  t1488516374548856835  replied_to  t1488469083460976642\n",
       "\n",
       "[1027311 rows x 3 columns]"
      ]
     },
     "execution_count": 148,
     "metadata": {},
     "output_type": "execute_result"
    }
   ],
   "source": [
    "dfEdge = pd.read_csv(partPath + 'edge.csv')\n",
    "dfEdge"
   ]
  },
  {
   "cell_type": "code",
   "execution_count": 149,
   "id": "27d02908",
   "metadata": {},
   "outputs": [
    {
     "name": "stdout",
     "output_type": "stream",
     "text": [
      "followers 3855\n",
      "following 13504\n",
      "quoted 1485\n",
      "post 984717\n",
      "replied_to 12209\n",
      "retweeted 11541\n"
     ]
    }
   ],
   "source": [
    "relaList = dfEdge['relation'].tolist()\n",
    "for rela in set(relaList):\n",
    "    print(rela, relaList.count(rela))"
   ]
  },
  {
   "cell_type": "code",
   "execution_count": 151,
   "id": "33610804",
   "metadata": {},
   "outputs": [
    {
     "data": {
      "text/html": [
       "<div>\n",
       "<style scoped>\n",
       "    .dataframe tbody tr th:only-of-type {\n",
       "        vertical-align: middle;\n",
       "    }\n",
       "\n",
       "    .dataframe tbody tr th {\n",
       "        vertical-align: top;\n",
       "    }\n",
       "\n",
       "    .dataframe thead th {\n",
       "        text-align: right;\n",
       "    }\n",
       "</style>\n",
       "<table border=\"1\" class=\"dataframe\">\n",
       "  <thead>\n",
       "    <tr style=\"text-align: right;\">\n",
       "      <th></th>\n",
       "      <th>source_id</th>\n",
       "      <th>relation</th>\n",
       "      <th>target_id</th>\n",
       "    </tr>\n",
       "  </thead>\n",
       "  <tbody>\n",
       "    <tr>\n",
       "      <th>1002076</th>\n",
       "      <td>t1268274950907015168</td>\n",
       "      <td>replied_to</td>\n",
       "      <td>t1268161763138297858</td>\n",
       "    </tr>\n",
       "    <tr>\n",
       "      <th>1002077</th>\n",
       "      <td>t1427342075205341191</td>\n",
       "      <td>retweeted</td>\n",
       "      <td>t1427341204509835264</td>\n",
       "    </tr>\n",
       "    <tr>\n",
       "      <th>1002078</th>\n",
       "      <td>t1412726752959512577</td>\n",
       "      <td>replied_to</td>\n",
       "      <td>t1412726751961223168</td>\n",
       "    </tr>\n",
       "    <tr>\n",
       "      <th>1002079</th>\n",
       "      <td>t1483511703258435584</td>\n",
       "      <td>replied_to</td>\n",
       "      <td>t1483505495168143370</td>\n",
       "    </tr>\n",
       "    <tr>\n",
       "      <th>1002080</th>\n",
       "      <td>t1491361887996768258</td>\n",
       "      <td>replied_to</td>\n",
       "      <td>t1491361116219650048</td>\n",
       "    </tr>\n",
       "    <tr>\n",
       "      <th>...</th>\n",
       "      <td>...</td>\n",
       "      <td>...</td>\n",
       "      <td>...</td>\n",
       "    </tr>\n",
       "    <tr>\n",
       "      <th>1027306</th>\n",
       "      <td>t1263338516915859457</td>\n",
       "      <td>retweeted</td>\n",
       "      <td>t1263228699484262400</td>\n",
       "    </tr>\n",
       "    <tr>\n",
       "      <th>1027307</th>\n",
       "      <td>t1464800121028292611</td>\n",
       "      <td>retweeted</td>\n",
       "      <td>t1464795723900276740</td>\n",
       "    </tr>\n",
       "    <tr>\n",
       "      <th>1027308</th>\n",
       "      <td>t1421439998654615553</td>\n",
       "      <td>retweeted</td>\n",
       "      <td>t1421438967887585283</td>\n",
       "    </tr>\n",
       "    <tr>\n",
       "      <th>1027309</th>\n",
       "      <td>t506421397824880640</td>\n",
       "      <td>retweeted</td>\n",
       "      <td>t506388938915729408</td>\n",
       "    </tr>\n",
       "    <tr>\n",
       "      <th>1027310</th>\n",
       "      <td>t1488516374548856835</td>\n",
       "      <td>replied_to</td>\n",
       "      <td>t1488469083460976642</td>\n",
       "    </tr>\n",
       "  </tbody>\n",
       "</table>\n",
       "<p>25235 rows × 3 columns</p>\n",
       "</div>"
      ],
      "text/plain": [
       "                    source_id    relation             target_id\n",
       "1002076  t1268274950907015168  replied_to  t1268161763138297858\n",
       "1002077  t1427342075205341191   retweeted  t1427341204509835264\n",
       "1002078  t1412726752959512577  replied_to  t1412726751961223168\n",
       "1002079  t1483511703258435584  replied_to  t1483505495168143370\n",
       "1002080  t1491361887996768258  replied_to  t1491361116219650048\n",
       "...                       ...         ...                   ...\n",
       "1027306  t1263338516915859457   retweeted  t1263228699484262400\n",
       "1027307  t1464800121028292611   retweeted  t1464795723900276740\n",
       "1027308  t1421439998654615553   retweeted  t1421438967887585283\n",
       "1027309   t506421397824880640   retweeted   t506388938915729408\n",
       "1027310  t1488516374548856835  replied_to  t1488469083460976642\n",
       "\n",
       "[25235 rows x 3 columns]"
      ]
     },
     "execution_count": 151,
     "metadata": {},
     "output_type": "execute_result"
    }
   ],
   "source": [
    "relaTweets = ['retweeted', 'quoted', 'replied_to']\n",
    "dfTweetEdge = dfEdge.loc[dfEdge['relation'].isin(relaTweets)]\n",
    "dfTweetEdge"
   ]
  },
  {
   "cell_type": "code",
   "execution_count": 152,
   "id": "e0376e85",
   "metadata": {},
   "outputs": [
    {
     "data": {
      "text/plain": [
       "984717"
      ]
     },
     "execution_count": 152,
     "metadata": {},
     "output_type": "execute_result"
    }
   ],
   "source": [
    "len(tidMap.keys())"
   ]
  },
  {
   "cell_type": "code",
   "execution_count": 153,
   "id": "f515ee4e",
   "metadata": {},
   "outputs": [
    {
     "name": "stderr",
     "output_type": "stream",
     "text": [
      "/var/folders/pk/9j79n0j97l96355kp67lwjxr0000gn/T/ipykernel_41033/3185184780.py:1: SettingWithCopyWarning: \n",
      "A value is trying to be set on a copy of a slice from a DataFrame.\n",
      "Try using .loc[row_indexer,col_indexer] = value instead\n",
      "\n",
      "See the caveats in the documentation: https://pandas.pydata.org/pandas-docs/stable/user_guide/indexing.html#returning-a-view-versus-a-copy\n",
      "  dfTweetEdge['sid'] = dfTweetEdge['source_id'].map(tidMap)\n",
      "/var/folders/pk/9j79n0j97l96355kp67lwjxr0000gn/T/ipykernel_41033/3185184780.py:2: SettingWithCopyWarning: \n",
      "A value is trying to be set on a copy of a slice from a DataFrame.\n",
      "Try using .loc[row_indexer,col_indexer] = value instead\n",
      "\n",
      "See the caveats in the documentation: https://pandas.pydata.org/pandas-docs/stable/user_guide/indexing.html#returning-a-view-versus-a-copy\n",
      "  dfTweetEdge['tid'] = dfTweetEdge['target_id'].map(tidMap)\n"
     ]
    },
    {
     "data": {
      "text/html": [
       "<div>\n",
       "<style scoped>\n",
       "    .dataframe tbody tr th:only-of-type {\n",
       "        vertical-align: middle;\n",
       "    }\n",
       "\n",
       "    .dataframe tbody tr th {\n",
       "        vertical-align: top;\n",
       "    }\n",
       "\n",
       "    .dataframe thead th {\n",
       "        text-align: right;\n",
       "    }\n",
       "</style>\n",
       "<table border=\"1\" class=\"dataframe\">\n",
       "  <thead>\n",
       "    <tr style=\"text-align: right;\">\n",
       "      <th></th>\n",
       "      <th>source_id</th>\n",
       "      <th>relation</th>\n",
       "      <th>target_id</th>\n",
       "      <th>sid</th>\n",
       "      <th>tid</th>\n",
       "    </tr>\n",
       "  </thead>\n",
       "  <tbody>\n",
       "    <tr>\n",
       "      <th>1002076</th>\n",
       "      <td>t1268274950907015168</td>\n",
       "      <td>replied_to</td>\n",
       "      <td>t1268161763138297858</td>\n",
       "      <td>178780</td>\n",
       "      <td>939704</td>\n",
       "    </tr>\n",
       "    <tr>\n",
       "      <th>1002077</th>\n",
       "      <td>t1427342075205341191</td>\n",
       "      <td>retweeted</td>\n",
       "      <td>t1427341204509835264</td>\n",
       "      <td>106296</td>\n",
       "      <td>976176</td>\n",
       "    </tr>\n",
       "    <tr>\n",
       "      <th>1002078</th>\n",
       "      <td>t1412726752959512577</td>\n",
       "      <td>replied_to</td>\n",
       "      <td>t1412726751961223168</td>\n",
       "      <td>182330</td>\n",
       "      <td>174386</td>\n",
       "    </tr>\n",
       "    <tr>\n",
       "      <th>1002079</th>\n",
       "      <td>t1483511703258435584</td>\n",
       "      <td>replied_to</td>\n",
       "      <td>t1483505495168143370</td>\n",
       "      <td>203232</td>\n",
       "      <td>971126</td>\n",
       "    </tr>\n",
       "    <tr>\n",
       "      <th>1002080</th>\n",
       "      <td>t1491361887996768258</td>\n",
       "      <td>replied_to</td>\n",
       "      <td>t1491361116219650048</td>\n",
       "      <td>104574</td>\n",
       "      <td>978009</td>\n",
       "    </tr>\n",
       "    <tr>\n",
       "      <th>...</th>\n",
       "      <td>...</td>\n",
       "      <td>...</td>\n",
       "      <td>...</td>\n",
       "      <td>...</td>\n",
       "      <td>...</td>\n",
       "    </tr>\n",
       "    <tr>\n",
       "      <th>1027306</th>\n",
       "      <td>t1263338516915859457</td>\n",
       "      <td>retweeted</td>\n",
       "      <td>t1263228699484262400</td>\n",
       "      <td>181233</td>\n",
       "      <td>921858</td>\n",
       "    </tr>\n",
       "    <tr>\n",
       "      <th>1027307</th>\n",
       "      <td>t1464800121028292611</td>\n",
       "      <td>retweeted</td>\n",
       "      <td>t1464795723900276740</td>\n",
       "      <td>224917</td>\n",
       "      <td>922897</td>\n",
       "    </tr>\n",
       "    <tr>\n",
       "      <th>1027308</th>\n",
       "      <td>t1421439998654615553</td>\n",
       "      <td>retweeted</td>\n",
       "      <td>t1421438967887585283</td>\n",
       "      <td>102125</td>\n",
       "      <td>917216</td>\n",
       "    </tr>\n",
       "    <tr>\n",
       "      <th>1027309</th>\n",
       "      <td>t506421397824880640</td>\n",
       "      <td>retweeted</td>\n",
       "      <td>t506388938915729408</td>\n",
       "      <td>200283</td>\n",
       "      <td>972569</td>\n",
       "    </tr>\n",
       "    <tr>\n",
       "      <th>1027310</th>\n",
       "      <td>t1488516374548856835</td>\n",
       "      <td>replied_to</td>\n",
       "      <td>t1488469083460976642</td>\n",
       "      <td>144140</td>\n",
       "      <td>980810</td>\n",
       "    </tr>\n",
       "  </tbody>\n",
       "</table>\n",
       "<p>25235 rows × 5 columns</p>\n",
       "</div>"
      ],
      "text/plain": [
       "                    source_id    relation             target_id     sid  \\\n",
       "1002076  t1268274950907015168  replied_to  t1268161763138297858  178780   \n",
       "1002077  t1427342075205341191   retweeted  t1427341204509835264  106296   \n",
       "1002078  t1412726752959512577  replied_to  t1412726751961223168  182330   \n",
       "1002079  t1483511703258435584  replied_to  t1483505495168143370  203232   \n",
       "1002080  t1491361887996768258  replied_to  t1491361116219650048  104574   \n",
       "...                       ...         ...                   ...     ...   \n",
       "1027306  t1263338516915859457   retweeted  t1263228699484262400  181233   \n",
       "1027307  t1464800121028292611   retweeted  t1464795723900276740  224917   \n",
       "1027308  t1421439998654615553   retweeted  t1421438967887585283  102125   \n",
       "1027309   t506421397824880640   retweeted   t506388938915729408  200283   \n",
       "1027310  t1488516374548856835  replied_to  t1488469083460976642  144140   \n",
       "\n",
       "            tid  \n",
       "1002076  939704  \n",
       "1002077  976176  \n",
       "1002078  174386  \n",
       "1002079  971126  \n",
       "1002080  978009  \n",
       "...         ...  \n",
       "1027306  921858  \n",
       "1027307  922897  \n",
       "1027308  917216  \n",
       "1027309  972569  \n",
       "1027310  980810  \n",
       "\n",
       "[25235 rows x 5 columns]"
      ]
     },
     "execution_count": 153,
     "metadata": {},
     "output_type": "execute_result"
    }
   ],
   "source": [
    "dfTweetEdge['sid'] = dfTweetEdge['source_id'].map(tidMap)\n",
    "dfTweetEdge['tid'] = dfTweetEdge['target_id'].map(tidMap)\n",
    "dfTweetEdge"
   ]
  },
  {
   "cell_type": "code",
   "execution_count": 154,
   "id": "19d65265",
   "metadata": {},
   "outputs": [],
   "source": [
    "replysidList = dfTweetEdge.loc[dfTweetEdge['relation'] == 'replied_to']['sid'].tolist()\n",
    "replytidList = dfTweetEdge.loc[dfTweetEdge['relation'] == 'replied_to']['tid'].tolist()"
   ]
  },
  {
   "cell_type": "code",
   "execution_count": 155,
   "id": "17fdeafb",
   "metadata": {},
   "outputs": [],
   "source": [
    "quotesidList = dfTweetEdge.loc[dfTweetEdge['relation'] == 'quoted']['sid'].tolist()\n",
    "quotetidList = dfTweetEdge.loc[dfTweetEdge['relation'] == 'quoted']['tid'].tolist()"
   ]
  },
  {
   "cell_type": "code",
   "execution_count": 156,
   "id": "a4da88cd",
   "metadata": {},
   "outputs": [],
   "source": [
    "retweetsidList = dfTweetEdge.loc[dfTweetEdge['relation'] == 'retweeted']['sid'].tolist()\n",
    "retweettidList = dfTweetEdge.loc[dfTweetEdge['relation'] == 'retweeted']['tid'].tolist()"
   ]
  },
  {
   "cell_type": "code",
   "execution_count": null,
   "id": "38d68e2c",
   "metadata": {},
   "outputs": [],
   "source": []
  },
  {
   "cell_type": "code",
   "execution_count": 159,
   "id": "5b1a4194",
   "metadata": {},
   "outputs": [],
   "source": [
    "def getEdge(inters):\n",
    "    if inters == 1:\n",
    "        map0 = tidNodeMap1\n",
    "    elif inters == 10:\n",
    "        map0 = tidNodeMap10\n",
    "    elif inters == 20:\n",
    "        map0 = tidNodeMap20\n",
    "    else:\n",
    "        map0 = tidNodeMap50\n",
    "    edgeReply = [[], []]\n",
    "    edgeRetweet = [[], []]\n",
    "    edgeQuote = [[], []]\n",
    "    replynode1 = [map0[id0] for id0 in replysidList]\n",
    "    replynode2 = [map0[id0] for id0 in replytidList]\n",
    "    retweetnode1 = [map0[id0] for id0 in retweetsidList]\n",
    "    retweetnode2 = [map0[id0] for id0 in retweettidList]\n",
    "    quotenode1 = [map0[id0] for id0 in quotesidList]\n",
    "    quotenode2 = [map0[id0] for id0 in quotetidList]\n",
    "    edgeReply = [list(replynode1), list(replynode2)]\n",
    "    edgeRetweet = [list(retweetnode1), list(retweetnode2)]\n",
    "    edgeQuote = [list(quotenode1), list(quotenode2)]\n",
    "    reply = torch.tensor(edgeReply, dtype=int)\n",
    "    torch.save(reply, partPath + 'edgeList' + str(inters) + 'DayReply.pt')\n",
    "    quote = torch.tensor(edgeQuote, dtype=int)\n",
    "    torch.save(quote, partPath + 'edgeList' + str(inters) + 'DayQuote.pt')\n",
    "    retweet = torch.tensor(edgeRetweet, dtype=int)\n",
    "    torch.save(retweet, partPath + 'edgeList' + str(inters) + 'DayRetweet.pt')\n",
    "    return\n"
   ]
  },
  {
   "cell_type": "code",
   "execution_count": 160,
   "id": "0f7d18be",
   "metadata": {},
   "outputs": [],
   "source": [
    "getEdge(1)"
   ]
  },
  {
   "cell_type": "code",
   "execution_count": 161,
   "id": "3a613454",
   "metadata": {},
   "outputs": [],
   "source": [
    "getEdge(10)"
   ]
  },
  {
   "cell_type": "code",
   "execution_count": 162,
   "id": "6ff526e8",
   "metadata": {},
   "outputs": [],
   "source": [
    "getEdge(20)"
   ]
  },
  {
   "cell_type": "code",
   "execution_count": 163,
   "id": "7e1962fa",
   "metadata": {},
   "outputs": [],
   "source": [
    "getEdge(50)"
   ]
  },
  {
   "cell_type": "code",
   "execution_count": 37,
   "id": "60b783b2",
   "metadata": {},
   "outputs": [],
   "source": [
    "edgeList1dayOri = torch.tensor(edgeList1dayOri, dtype=int)\n",
    "torch.save(edgeList1dayOri, partPath + 'edgeList1DayOrigin.pt')"
   ]
  },
  {
   "cell_type": "code",
   "execution_count": 38,
   "id": "fcb889ff",
   "metadata": {},
   "outputs": [],
   "source": [
    "edgeList10dayOri = torch.tensor(edgeList10dayOri, dtype=int)\n",
    "torch.save(edgeList10dayOri, partPath + 'edgeList10DayOrigin.pt')"
   ]
  },
  {
   "cell_type": "code",
   "execution_count": 39,
   "id": "5f21b5e7",
   "metadata": {},
   "outputs": [],
   "source": [
    "edgeList20dayOri = torch.tensor(edgeList20dayOri, dtype=int)\n",
    "torch.save(edgeList20dayOri, partPath + 'edgeList20DayOrigin.pt')"
   ]
  },
  {
   "cell_type": "code",
   "execution_count": 40,
   "id": "77e6a0f3",
   "metadata": {},
   "outputs": [],
   "source": [
    "edgeList50dayOri = torch.tensor(edgeList50dayOri, dtype=int)\n",
    "torch.save(edgeList50dayOri, partPath + 'edgeList50DayOrigin.pt')"
   ]
  },
  {
   "cell_type": "code",
   "execution_count": 168,
   "id": "f5721114",
   "metadata": {},
   "outputs": [],
   "source": [
    "with open(partPath + 'userTweetNums1Day.json', 'w') as f:\n",
    "    f.write(json.dumps(dayLenList))"
   ]
  },
  {
   "cell_type": "code",
   "execution_count": 170,
   "id": "41a7af43",
   "metadata": {},
   "outputs": [],
   "source": [
    "with open(partPath + 'userTweetNums10Day.json', 'w') as f:\n",
    "    dayLenList10 = list([math.ceil(day / 10) for day in dayLenList])\n",
    "    f.write(json.dumps(dayLenList10))"
   ]
  },
  {
   "cell_type": "code",
   "execution_count": 171,
   "id": "3974f915",
   "metadata": {},
   "outputs": [],
   "source": [
    "with open(partPath + 'userTweetNums20Day.json', 'w') as f:\n",
    "    dayLenList20 = list([math.ceil(day / 20) for day in dayLenList])\n",
    "    f.write(json.dumps(dayLenList20))"
   ]
  },
  {
   "cell_type": "code",
   "execution_count": 172,
   "id": "51375b92",
   "metadata": {},
   "outputs": [],
   "source": [
    "with open(partPath + 'userTweetNums50Day.json', 'w') as f:\n",
    "    dayLenList50 = list([math.ceil(day / 50) for day in dayLenList])\n",
    "    f.write(json.dumps(dayLenList50))"
   ]
  },
  {
   "cell_type": "code",
   "execution_count": 187,
   "id": "4ca23c26",
   "metadata": {},
   "outputs": [
    {
     "data": {
      "text/plain": [
       "[0, 10, 12, 15, 24]"
      ]
     },
     "execution_count": 187,
     "metadata": {},
     "output_type": "execute_result"
    }
   ],
   "source": [
    "def getDayRange(dayLenList):\n",
    "    start = 0\n",
    "    dayRange = []\n",
    "    for day in dayLenList:\n",
    "        dayRange.append(start)\n",
    "        start += day\n",
    "    dayRange.append(start)\n",
    "    return dayRange\n",
    "\n",
    "getDayRange([10, 2, 3, 9])"
   ]
  },
  {
   "cell_type": "code",
   "execution_count": 174,
   "id": "224abe25",
   "metadata": {},
   "outputs": [
    {
     "data": {
      "text/plain": [
       "[2009, 1527, 47, 1864, 1, 1, 829, 951, 644, 1758]"
      ]
     },
     "execution_count": 174,
     "metadata": {},
     "output_type": "execute_result"
    }
   ],
   "source": [
    "dayLenList[:10]"
   ]
  },
  {
   "cell_type": "code",
   "execution_count": 188,
   "id": "568ae645",
   "metadata": {},
   "outputs": [],
   "source": [
    "with open(partPath + 'userTweetNums1Day.json', 'w') as f:\n",
    "    f.write(json.dumps(getDayRange(dayLenList)))"
   ]
  },
  {
   "cell_type": "code",
   "execution_count": 189,
   "id": "f93d5f4a",
   "metadata": {},
   "outputs": [],
   "source": [
    "with open(partPath + 'userTweetNums10Day.json', 'w') as f:\n",
    "    dayLenList10 = list([math.ceil(day / 10) for day in dayLenList])\n",
    "    f.write(json.dumps(getDayRange(dayLenList10)))"
   ]
  },
  {
   "cell_type": "code",
   "execution_count": 190,
   "id": "2f55824e",
   "metadata": {},
   "outputs": [],
   "source": [
    "with open(partPath + 'userTweetNums20Day.json', 'w') as f:\n",
    "    dayLenList20 = list([math.ceil(day / 20) for day in dayLenList])\n",
    "    f.write(json.dumps(getDayRange(dayLenList20)))"
   ]
  },
  {
   "cell_type": "code",
   "execution_count": 191,
   "id": "5c1a7392",
   "metadata": {},
   "outputs": [],
   "source": [
    "with open(partPath + 'userTweetNums50Day.json', 'w') as f:\n",
    "    dayLenList50 = list([math.ceil(day / 50) for day in dayLenList])\n",
    "    f.write(json.dumps(getDayRange(dayLenList50)))"
   ]
  },
  {
   "cell_type": "code",
   "execution_count": 180,
   "id": "de13d362",
   "metadata": {},
   "outputs": [
    {
     "data": {
      "text/plain": [
       "[0, 101, 178, 181, 275, 276, 277, 319, 367, 400]"
      ]
     },
     "execution_count": 180,
     "metadata": {},
     "output_type": "execute_result"
    }
   ],
   "source": [
    "getDayRange(dayLenList20[:10])"
   ]
  },
  {
   "cell_type": "code",
   "execution_count": 181,
   "id": "c8299c02",
   "metadata": {},
   "outputs": [
    {
     "data": {
      "text/plain": [
       "tensor([[5.3333e+00, 0.0000e+00, 2.0667e+01, 0.0000e+00, 0.0000e+00, 6.6667e-01,\n",
       "         0.0000e+00, 1.3333e+00, 1.3667e+02, 1.4420e+03, 2.2667e+01, 8.4000e+01],\n",
       "        [2.0000e+01, 0.0000e+00, 1.1333e+01, 0.0000e+00, 0.0000e+00, 1.3333e+00,\n",
       "         6.6667e-01, 0.0000e+00, 2.0867e+02, 1.1480e+03, 1.8000e+01, 8.4000e+01],\n",
       "        [4.5714e+00, 1.7143e+00, 2.6000e+01, 0.0000e+00, 0.0000e+00, 0.0000e+00,\n",
       "         1.1429e+00, 0.0000e+00, 1.1857e+02, 1.1591e+03, 1.8571e+01, 8.4000e+01],\n",
       "        [1.2500e+01, 4.2500e+00, 6.6250e+01, 5.0000e-01, 0.0000e+00, 0.0000e+00,\n",
       "         1.0000e+00, 0.0000e+00, 1.0650e+02, 8.8400e+02, 1.4000e+01, 8.4000e+01],\n",
       "        [0.0000e+00, 0.0000e+00, 0.0000e+00, 0.0000e+00, 0.0000e+00, 0.0000e+00,\n",
       "         0.0000e+00, 0.0000e+00, 0.0000e+00, 0.0000e+00, 0.0000e+00, 0.0000e+00],\n",
       "        [0.0000e+00, 1.0000e+00, 2.0000e+00, 0.0000e+00, 0.0000e+00, 0.0000e+00,\n",
       "         0.0000e+00, 0.0000e+00, 1.0500e+02, 1.6300e+02, 2.0000e+00, 8.4000e+01],\n",
       "        [7.0000e+00, 3.0000e+00, 2.5000e+01, 0.0000e+00, 0.0000e+00, 0.0000e+00,\n",
       "         5.0000e-01, 0.0000e+00, 1.0900e+02, 6.3200e+02, 9.5000e+00, 8.4000e+01],\n",
       "        [0.0000e+00, 0.0000e+00, 0.0000e+00, 0.0000e+00, 0.0000e+00, 0.0000e+00,\n",
       "         0.0000e+00, 0.0000e+00, 0.0000e+00, 0.0000e+00, 0.0000e+00, 0.0000e+00],\n",
       "        [0.0000e+00, 2.0000e+00, 4.0000e+00, 0.0000e+00, 0.0000e+00, 0.0000e+00,\n",
       "         0.0000e+00, 0.0000e+00, 4.3600e+02, 1.6500e+03, 2.6000e+01, 8.4000e+01],\n",
       "        [0.0000e+00, 0.0000e+00, 0.0000e+00, 0.0000e+00, 0.0000e+00, 0.0000e+00,\n",
       "         0.0000e+00, 0.0000e+00, 0.0000e+00, 0.0000e+00, 0.0000e+00, 0.0000e+00]])"
      ]
     },
     "execution_count": 181,
     "metadata": {},
     "output_type": "execute_result"
    }
   ],
   "source": [
    "num20day[:10]"
   ]
  },
  {
   "cell_type": "code",
   "execution_count": 183,
   "id": "46b19f8d",
   "metadata": {},
   "outputs": [
    {
     "data": {
      "text/plain": [
       "torch.Size([245860, 12])"
      ]
     },
     "execution_count": 183,
     "metadata": {},
     "output_type": "execute_result"
    }
   ],
   "source": [
    "num20day.shape"
   ]
  },
  {
   "cell_type": "code",
   "execution_count": 185,
   "id": "644fb3d7",
   "metadata": {},
   "outputs": [
    {
     "data": {
      "text/plain": [
       "245780"
      ]
     },
     "execution_count": 185,
     "metadata": {},
     "output_type": "execute_result"
    }
   ],
   "source": [
    "dayRange20 = getDayRange(dayLenList20)\n",
    "dayRange20[-1]"
   ]
  },
  {
   "cell_type": "code",
   "execution_count": 186,
   "id": "acffa6d9",
   "metadata": {},
   "outputs": [
    {
     "data": {
      "text/plain": [
       "1581"
      ]
     },
     "execution_count": 186,
     "metadata": {},
     "output_type": "execute_result"
    }
   ],
   "source": [
    "dayLenList[-1]"
   ]
  },
  {
   "cell_type": "code",
   "execution_count": 192,
   "id": "9badde84",
   "metadata": {},
   "outputs": [
    {
     "data": {
      "text/plain": [
       "8139"
      ]
     },
     "execution_count": 192,
     "metadata": {},
     "output_type": "execute_result"
    }
   ],
   "source": [
    "len(dayRange20)"
   ]
  },
  {
   "cell_type": "code",
   "execution_count": null,
   "id": "728bef25",
   "metadata": {},
   "outputs": [],
   "source": [
    "uidMap1 = dfTweetSet['uidMap'].tolist()"
   ]
  },
  {
   "cell_type": "code",
   "execution_count": 195,
   "id": "a7b2454d",
   "metadata": {},
   "outputs": [
    {
     "data": {
      "text/plain": [
       "(8694,\n",
       " ['u771758047412748288',\n",
       "  'u86020763',\n",
       "  'u1004440668763230210',\n",
       "  'u2522772534',\n",
       "  'u1375112149157216258',\n",
       "  'u1118067018035449856',\n",
       "  'u1184578525455622150',\n",
       "  'u145169990',\n",
       "  'u148390293',\n",
       "  'u17659206'])"
      ]
     },
     "execution_count": 195,
     "metadata": {},
     "output_type": "execute_result"
    }
   ],
   "source": [
    "uidMap2 = dfUser['id'].tolist()\n",
    "len(uidMap2), uidMap2[:10]"
   ]
  },
  {
   "cell_type": "code",
   "execution_count": 197,
   "id": "e91e9278",
   "metadata": {},
   "outputs": [
    {
     "data": {
      "text/plain": [
       "8139"
      ]
     },
     "execution_count": 197,
     "metadata": {},
     "output_type": "execute_result"
    }
   ],
   "source": [
    "len(uidMap1)"
   ]
  },
  {
   "cell_type": "code",
   "execution_count": 199,
   "id": "ce212999",
   "metadata": {},
   "outputs": [
    {
     "data": {
      "text/plain": [
       "[0,\n",
       " 1,\n",
       " 2,\n",
       " 3,\n",
       " 4,\n",
       " 5,\n",
       " 6,\n",
       " 7,\n",
       " 8,\n",
       " 9,\n",
       " 10,\n",
       " 12,\n",
       " 13,\n",
       " 14,\n",
       " 15,\n",
       " 16,\n",
       " 17,\n",
       " 18,\n",
       " 20,\n",
       " 21,\n",
       " 22,\n",
       " 23,\n",
       " 24,\n",
       " 25,\n",
       " 26,\n",
       " 27,\n",
       " 28,\n",
       " 29,\n",
       " 30,\n",
       " 31,\n",
       " 32,\n",
       " 33,\n",
       " 34,\n",
       " 35,\n",
       " 36,\n",
       " 37,\n",
       " 38,\n",
       " 39,\n",
       " 40,\n",
       " 41,\n",
       " 42,\n",
       " 44,\n",
       " 45,\n",
       " 46,\n",
       " 47,\n",
       " 48,\n",
       " 49,\n",
       " 50,\n",
       " 51,\n",
       " 52,\n",
       " 54,\n",
       " 55,\n",
       " 56,\n",
       " 57,\n",
       " 58,\n",
       " 59,\n",
       " 60,\n",
       " 61,\n",
       " 62,\n",
       " 63,\n",
       " 64,\n",
       " 65,\n",
       " 66,\n",
       " 67,\n",
       " 68,\n",
       " 69,\n",
       " 70,\n",
       " 71,\n",
       " 72,\n",
       " 73,\n",
       " 74,\n",
       " 75,\n",
       " 76,\n",
       " 77,\n",
       " 78,\n",
       " 79,\n",
       " 81,\n",
       " 82,\n",
       " 83,\n",
       " 84,\n",
       " 85,\n",
       " 86,\n",
       " 88,\n",
       " 89,\n",
       " 90,\n",
       " 92,\n",
       " 93,\n",
       " 94,\n",
       " 95,\n",
       " 96,\n",
       " 97,\n",
       " 98,\n",
       " 99,\n",
       " 100,\n",
       " 101,\n",
       " 102,\n",
       " 104,\n",
       " 105,\n",
       " 106,\n",
       " 107]"
      ]
     },
     "execution_count": 199,
     "metadata": {},
     "output_type": "execute_result"
    }
   ],
   "source": [
    "uidMap1[:100]"
   ]
  },
  {
   "cell_type": "code",
   "execution_count": 200,
   "id": "028722ea",
   "metadata": {},
   "outputs": [
    {
     "data": {
      "text/plain": [
       "tensor([[1, 1, 1, 1],\n",
       "        [2, 2, 2, 2],\n",
       "        [3, 3, 3, 3],\n",
       "        [4, 4, 4, 4]])"
      ]
     },
     "execution_count": 200,
     "metadata": {},
     "output_type": "execute_result"
    }
   ],
   "source": [
    "m0 = [[1]* 4, [2] * 4, [3] * 4, [4] * 4]\n",
    "m0 = torch.tensor(m0, dtype=int)\n",
    "m0"
   ]
  },
  {
   "cell_type": "code",
   "execution_count": 212,
   "id": "5c07bb5b",
   "metadata": {},
   "outputs": [
    {
     "data": {
      "text/plain": [
       "tensor([2, 1, 0, 3])"
      ]
     },
     "execution_count": 212,
     "metadata": {},
     "output_type": "execute_result"
    }
   ],
   "source": [
    "index0 = torch.tensor([2, 1, 0, 3], dtype=int)\n",
    "index0"
   ]
  },
  {
   "cell_type": "code",
   "execution_count": 214,
   "id": "eb2a105b",
   "metadata": {},
   "outputs": [
    {
     "data": {
      "text/plain": [
       "tensor([[3, 3, 3, 3],\n",
       "        [2, 2, 2, 2],\n",
       "        [1, 1, 1, 1],\n",
       "        [4, 4, 4, 4]])"
      ]
     },
     "execution_count": 214,
     "metadata": {},
     "output_type": "execute_result"
    }
   ],
   "source": [
    "m0[index0]"
   ]
  },
  {
   "cell_type": "code",
   "execution_count": 215,
   "id": "c6a00489",
   "metadata": {},
   "outputs": [
    {
     "data": {
      "text/plain": [
       "8139"
      ]
     },
     "execution_count": 215,
     "metadata": {},
     "output_type": "execute_result"
    }
   ],
   "source": [
    "len(uidMap1)"
   ]
  },
  {
   "cell_type": "code",
   "execution_count": 216,
   "id": "1224b142",
   "metadata": {},
   "outputs": [
    {
     "data": {
      "text/plain": [
       "8694"
      ]
     },
     "execution_count": 216,
     "metadata": {},
     "output_type": "execute_result"
    }
   ],
   "source": [
    "len(uidMap2)"
   ]
  },
  {
   "cell_type": "code",
   "execution_count": 217,
   "id": "11120ac1",
   "metadata": {},
   "outputs": [],
   "source": [
    "reIndex = uidMap1\n",
    "for i in range(len(uidMap2)):\n",
    "    if i not in uidMap1:\n",
    "        reIndex.append(i)"
   ]
  },
  {
   "cell_type": "code",
   "execution_count": 218,
   "id": "76e0b63d",
   "metadata": {},
   "outputs": [
    {
     "data": {
      "text/plain": [
       "8694"
      ]
     },
     "execution_count": 218,
     "metadata": {},
     "output_type": "execute_result"
    }
   ],
   "source": [
    "len(reIndex)"
   ]
  },
  {
   "cell_type": "code",
   "execution_count": 219,
   "id": "a10675fb",
   "metadata": {},
   "outputs": [
    {
     "data": {
      "text/plain": [
       "[7322,\n",
       " 7435,\n",
       " 7461,\n",
       " 7475,\n",
       " 7478,\n",
       " 7479,\n",
       " 7483,\n",
       " 7487,\n",
       " 7490,\n",
       " 7493,\n",
       " 7494,\n",
       " 7550,\n",
       " 7551,\n",
       " 7557,\n",
       " 7558,\n",
       " 7562,\n",
       " 7567,\n",
       " 7573,\n",
       " 7580,\n",
       " 7598,\n",
       " 7606,\n",
       " 7611,\n",
       " 7647,\n",
       " 7733,\n",
       " 7800,\n",
       " 7818,\n",
       " 7824,\n",
       " 7862,\n",
       " 7891,\n",
       " 7904,\n",
       " 7906,\n",
       " 7909,\n",
       " 7916,\n",
       " 7921,\n",
       " 7940,\n",
       " 7947,\n",
       " 7950,\n",
       " 7954,\n",
       " 7956,\n",
       " 7962,\n",
       " 7963,\n",
       " 7974,\n",
       " 7985,\n",
       " 7989,\n",
       " 7991,\n",
       " 7992,\n",
       " 7993,\n",
       " 7994,\n",
       " 7995,\n",
       " 8000,\n",
       " 8004,\n",
       " 8014,\n",
       " 8015,\n",
       " 8018,\n",
       " 8019,\n",
       " 8021,\n",
       " 8022,\n",
       " 8039,\n",
       " 8054,\n",
       " 8056,\n",
       " 8103,\n",
       " 8109,\n",
       " 8119,\n",
       " 8129,\n",
       " 8148,\n",
       " 8165,\n",
       " 8166,\n",
       " 8179,\n",
       " 8188,\n",
       " 8189,\n",
       " 8191,\n",
       " 8219,\n",
       " 8237,\n",
       " 8238,\n",
       " 8245,\n",
       " 8248,\n",
       " 8257,\n",
       " 8260,\n",
       " 8261,\n",
       " 8262,\n",
       " 8270,\n",
       " 8271,\n",
       " 8273,\n",
       " 8299,\n",
       " 8343,\n",
       " 8360,\n",
       " 8376,\n",
       " 8387,\n",
       " 8389,\n",
       " 8400,\n",
       " 8405,\n",
       " 8415,\n",
       " 8464,\n",
       " 8488,\n",
       " 8504,\n",
       " 8508,\n",
       " 8538,\n",
       " 8610,\n",
       " 8669]"
      ]
     },
     "execution_count": 219,
     "metadata": {},
     "output_type": "execute_result"
    }
   ],
   "source": [
    "reIndex[-100:-1]"
   ]
  },
  {
   "cell_type": "code",
   "execution_count": 220,
   "id": "c88fa59b",
   "metadata": {},
   "outputs": [
    {
     "data": {
      "text/plain": [
       "[8552,\n",
       " 8553,\n",
       " 8554,\n",
       " 8555,\n",
       " 8556,\n",
       " 8557,\n",
       " 8558,\n",
       " 8559,\n",
       " 8560,\n",
       " 8561,\n",
       " 8562,\n",
       " 8563,\n",
       " 8564,\n",
       " 8565,\n",
       " 8566,\n",
       " 8567,\n",
       " 8568,\n",
       " 8569,\n",
       " 8570,\n",
       " 8571,\n",
       " 8572,\n",
       " 8573,\n",
       " 8574,\n",
       " 8575,\n",
       " 8576,\n",
       " 8577,\n",
       " 8578,\n",
       " 8579,\n",
       " 8580,\n",
       " 8581,\n",
       " 8582,\n",
       " 8583,\n",
       " 8584,\n",
       " 8585,\n",
       " 8586,\n",
       " 8587,\n",
       " 8588,\n",
       " 8589,\n",
       " 8590,\n",
       " 8591,\n",
       " 8592,\n",
       " 8593,\n",
       " 8594,\n",
       " 8595,\n",
       " 8596,\n",
       " 8597,\n",
       " 8598,\n",
       " 8599,\n",
       " 8600,\n",
       " 8601,\n",
       " 8602,\n",
       " 8603,\n",
       " 8604,\n",
       " 8605,\n",
       " 8606,\n",
       " 8607,\n",
       " 8608,\n",
       " 8609,\n",
       " 8611,\n",
       " 8612,\n",
       " 8613,\n",
       " 8614,\n",
       " 8615,\n",
       " 8616,\n",
       " 8617,\n",
       " 8618,\n",
       " 8619,\n",
       " 8620,\n",
       " 8621,\n",
       " 8622,\n",
       " 8623,\n",
       " 8624,\n",
       " 8625,\n",
       " 8626,\n",
       " 8627,\n",
       " 8628,\n",
       " 8629,\n",
       " 8630,\n",
       " 8631,\n",
       " 8632,\n",
       " 8633,\n",
       " 8634,\n",
       " 8635,\n",
       " 8636,\n",
       " 8637,\n",
       " 8638,\n",
       " 8639,\n",
       " 8640,\n",
       " 8641,\n",
       " 8642,\n",
       " 8643,\n",
       " 8644,\n",
       " 8645,\n",
       " 8646,\n",
       " 8647,\n",
       " 8648,\n",
       " 8649,\n",
       " 8650,\n",
       " 8651,\n",
       " 8652,\n",
       " 8653,\n",
       " 8654,\n",
       " 8655,\n",
       " 8656,\n",
       " 8657,\n",
       " 8658,\n",
       " 8659,\n",
       " 8660,\n",
       " 8661,\n",
       " 8662,\n",
       " 8663,\n",
       " 8664,\n",
       " 8665,\n",
       " 8666,\n",
       " 8667,\n",
       " 8668,\n",
       " 8670,\n",
       " 8671,\n",
       " 8672,\n",
       " 8673,\n",
       " 8674,\n",
       " 8675,\n",
       " 8676,\n",
       " 8677,\n",
       " 8678,\n",
       " 8679,\n",
       " 8680,\n",
       " 8681,\n",
       " 8682,\n",
       " 8683,\n",
       " 8684,\n",
       " 8685,\n",
       " 8686,\n",
       " 8687,\n",
       " 8688,\n",
       " 8689,\n",
       " 8690,\n",
       " 8691,\n",
       " 8693]"
      ]
     },
     "execution_count": 220,
     "metadata": {},
     "output_type": "execute_result"
    }
   ],
   "source": [
    "reIndex[8000:8139]"
   ]
  },
  {
   "cell_type": "code",
   "execution_count": 221,
   "id": "7f09bb09",
   "metadata": {},
   "outputs": [
    {
     "data": {
      "text/plain": [
       "[11,\n",
       " 19,\n",
       " 43,\n",
       " 53,\n",
       " 80,\n",
       " 87,\n",
       " 91,\n",
       " 103,\n",
       " 108,\n",
       " 117,\n",
       " 125,\n",
       " 129,\n",
       " 132,\n",
       " 145,\n",
       " 148,\n",
       " 155,\n",
       " 167,\n",
       " 168,\n",
       " 170,\n",
       " 177,\n",
       " 185,\n",
       " 191,\n",
       " 234,\n",
       " 238,\n",
       " 239,\n",
       " 270,\n",
       " 276,\n",
       " 284,\n",
       " 292,\n",
       " 297,\n",
       " 300,\n",
       " 302,\n",
       " 310,\n",
       " 312,\n",
       " 318,\n",
       " 329,\n",
       " 346,\n",
       " 347,\n",
       " 348,\n",
       " 388,\n",
       " 390,\n",
       " 401,\n",
       " 402,\n",
       " 405,\n",
       " 406,\n",
       " 407,\n",
       " 408,\n",
       " 409,\n",
       " 414,\n",
       " 421,\n",
       " 432,\n",
       " 445,\n",
       " 452,\n",
       " 458,\n",
       " 476,\n",
       " 709,\n",
       " 710,\n",
       " 723,\n",
       " 820,\n",
       " 1017,\n",
       " 1029]"
      ]
     },
     "execution_count": 221,
     "metadata": {},
     "output_type": "execute_result"
    }
   ],
   "source": [
    "reIndex[8139:8200]"
   ]
  },
  {
   "cell_type": "code",
   "execution_count": 222,
   "id": "6d0b3485",
   "metadata": {},
   "outputs": [],
   "source": [
    "reIndex = torch.tensor(reIndex, dtype=int)\n",
    "torch.save(reIndex, partPath + 're_index.pt')"
   ]
  }
 ],
 "metadata": {
  "kernelspec": {
   "display_name": "Python 3 (ipykernel)",
   "language": "python",
   "name": "python3"
  },
  "language_info": {
   "codemirror_mode": {
    "name": "ipython",
    "version": 3
   },
   "file_extension": ".py",
   "mimetype": "text/x-python",
   "name": "python",
   "nbconvert_exporter": "python",
   "pygments_lexer": "ipython3",
   "version": "3.8.16"
  }
 },
 "nbformat": 4,
 "nbformat_minor": 5
}
