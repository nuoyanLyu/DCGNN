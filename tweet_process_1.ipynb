{
 "cells": [
  {
   "cell_type": "code",
   "execution_count": 1,
   "id": "42efe81c",
   "metadata": {},
   "outputs": [],
   "source": [
    "import json\n",
    "import re"
   ]
  },
  {
   "cell_type": "code",
   "execution_count": 2,
   "id": "9f63bd59",
   "metadata": {},
   "outputs": [],
   "source": [
    "tweetPath = 'TwiBot-22/tweets/'\n",
    "\n",
    "with open(tweetPath + 'tweet_0.json') as f:\n",
    "    tweets0 = f.read()"
   ]
  },
  {
   "cell_type": "code",
   "execution_count": 5,
   "id": "ef2d9bc3",
   "metadata": {},
   "outputs": [
    {
     "data": {
      "text/plain": [
       "'[{\"attachments\": null, \"author_id\": 1304855289208819713, \"context_annotations\": null, \"conversation_id\": 1497798545872588801, \"created_at\": \"2022-02-27 04:59:35+00:00\", \"entities\": {\"hashtags\": [], \"symbols\": [], \"user_mentions\": [{\"screen_name\": \"phaseknight_\", \"name\": \"sapphire starlight \\\\ud83d\\\\udc99\\\\u2728\", \"id\": 976935699793539073, \"id_str\": \"976935699793539073\", \"indices\": [0, 13]}], \"urls\": [], \"media\": [{\"id\": 1497798542869422086, \"id_str\": \"1497798542869422086\", \"indices\": [135, 158], \"media_url\": \"http://pbs.twimg.com/media/FMk_1szUYAYeJ7N.jpg\", \"media_url_https\": \"https://pbs.twimg.com/media/FMk_1szUYAYeJ7N.jpg\", \"url\": \"https://t.co/GXjjq83Rrn\", \"display_url\": \"pic.twitter.com/GXjjq83Rrn\", \"expanded_url\": \"https://twitter.com/cbtillustrates/status/1497798545872588801/photo/1\", \"type\": \"photo\", \"sizes\": {\"large\": {\"w\": 1575, \"h\": 2025, \"resize\": \"fit\"}, \"thumb\": {\"w\": 150, \"h\": 150, \"resize\": \"crop\"}, \"medium\": {\"w\": 933, \"h\": 1200, \"resize\": \"fit\"}, \"small\": {\"w\": 529, \"h\": 680, \"resize\": \"fit\"}}}]}, \"geo\": null, \"id\": \"t1497798545872588801\", \"in_reply_to_user_id\": 976935699793539073, \"lang\": \"en\", \"possibly_sensitive\": false, \"public_metrics\": {\"retweet_count\": 0, \"reply_count\": null, \"like_count\": 8, \"quote_count\": null}, \"referenced_tweets\": null, \"reply_settings\": null, \"source\": \"<a href=\\\\\"http://twitter.com/download/android\\\\\" rel=\\\\\"nofollow\\\\\">Twitter for Android</a>\", \"text\": \"@phaseknight_ Although I didn\\'t base this sketch on you specifically, I really think it vibes with your amazing NSFW Laudna cosplay! \\\\ud83d\\\\udda4 https://t.co/GXjjq83Rrn\", \"withheld\": null}, {\"attachments\": null, \"author_id\": 1304855289208819713, \"context_annotations\": null, \"conversation_id\": 1496915534717210656, \"created_at\": \"2022-02-24 18:30:49+00:00\", \"entities\": {\"hashtags\": [], \"symbols\": [], \"user_mentions\": [{\"screen_name\": \"matthewmercer\", \"name\": \"Matthew Mercer\", \"id\": 24630350, \"id_str\": \"24630350\", \"indices\": [59, 73]}, {\"screen_name\": \"CriticalRole\", \"name\": \"Cr'"
      ]
     },
     "execution_count": 5,
     "metadata": {},
     "output_type": "execute_result"
    }
   ],
   "source": [
    "tweets0[:2000]"
   ]
  },
  {
   "cell_type": "code",
   "execution_count": 8,
   "id": "5fe9e29e",
   "metadata": {},
   "outputs": [],
   "source": [
    "tid0 = re.findall(r'\\\"id\\\": \\\"(t[0-9]*)\\\"', tweets0)"
   ]
  },
  {
   "cell_type": "code",
   "execution_count": 9,
   "id": "7f79bdc1",
   "metadata": {},
   "outputs": [
    {
     "data": {
      "text/plain": [
       "10000000"
      ]
     },
     "execution_count": 9,
     "metadata": {},
     "output_type": "execute_result"
    }
   ],
   "source": [
    "len(tid0)"
   ]
  },
  {
   "cell_type": "code",
   "execution_count": 13,
   "id": "6135d8bf",
   "metadata": {},
   "outputs": [],
   "source": [
    "user0 = re.findall(r'\\\"author_id\\\": ([0-9]*)', tweets0)"
   ]
  },
  {
   "cell_type": "code",
   "execution_count": 14,
   "id": "c5445a5a",
   "metadata": {},
   "outputs": [
    {
     "data": {
      "text/plain": [
       "10000000"
      ]
     },
     "execution_count": 14,
     "metadata": {},
     "output_type": "execute_result"
    }
   ],
   "source": [
    "len(user0)"
   ]
  },
  {
   "cell_type": "code",
   "execution_count": 15,
   "id": "fc397f6e",
   "metadata": {},
   "outputs": [],
   "source": [
    "with open(tweetPath + 'tweet_0_user.json', 'w') as f:\n",
    "    f.write(json.dumps(user0))"
   ]
  },
  {
   "cell_type": "code",
   "execution_count": 16,
   "id": "8efc4e7c",
   "metadata": {},
   "outputs": [],
   "source": [
    "with open(tweetPath + 'tweet_0_tid.json', 'w') as f:\n",
    "    f.write(json.dumps(tid0))"
   ]
  },
  {
   "cell_type": "code",
   "execution_count": 17,
   "id": "14623ea4",
   "metadata": {},
   "outputs": [
    {
     "name": "stdout",
     "output_type": "stream",
     "text": [
      "tweet 1 over.\n",
      "tweet 2 over.\n",
      "tweet 3 over.\n",
      "tweet 4 over.\n",
      "tweet 5 over.\n",
      "tweet 6 over.\n",
      "tweet 7 over.\n",
      "tweet 8 over.\n"
     ]
    },
    {
     "ename": "FileNotFoundError",
     "evalue": "[Errno 2] No such file or directory: 'TwiBot-22/tweets/tweet_9.json'",
     "output_type": "error",
     "traceback": [
      "\u001b[0;31m---------------------------------------------------------------------------\u001b[0m",
      "\u001b[0;31mFileNotFoundError\u001b[0m                         Traceback (most recent call last)",
      "Cell \u001b[0;32mIn[17], line 2\u001b[0m\n\u001b[1;32m      1\u001b[0m \u001b[38;5;28;01mfor\u001b[39;00m i \u001b[38;5;129;01min\u001b[39;00m \u001b[38;5;28mrange\u001b[39m(\u001b[38;5;241m1\u001b[39m, \u001b[38;5;241m10\u001b[39m):\n\u001b[0;32m----> 2\u001b[0m     \u001b[38;5;28;01mwith\u001b[39;00m \u001b[38;5;28;43mopen\u001b[39;49m\u001b[43m(\u001b[49m\u001b[43mtweetPath\u001b[49m\u001b[43m \u001b[49m\u001b[38;5;241;43m+\u001b[39;49m\u001b[43m \u001b[49m\u001b[38;5;124;43m'\u001b[39;49m\u001b[38;5;124;43mtweet_\u001b[39;49m\u001b[38;5;124;43m'\u001b[39;49m\u001b[43m \u001b[49m\u001b[38;5;241;43m+\u001b[39;49m\u001b[43m \u001b[49m\u001b[38;5;28;43mstr\u001b[39;49m\u001b[43m(\u001b[49m\u001b[43mi\u001b[49m\u001b[43m)\u001b[49m\u001b[43m \u001b[49m\u001b[38;5;241;43m+\u001b[39;49m\u001b[43m \u001b[49m\u001b[38;5;124;43m'\u001b[39;49m\u001b[38;5;124;43m.json\u001b[39;49m\u001b[38;5;124;43m'\u001b[39;49m\u001b[43m)\u001b[49m \u001b[38;5;28;01mas\u001b[39;00m f:\n\u001b[1;32m      3\u001b[0m         tweets \u001b[38;5;241m=\u001b[39m f\u001b[38;5;241m.\u001b[39mread()\n\u001b[1;32m      4\u001b[0m     tid \u001b[38;5;241m=\u001b[39m re\u001b[38;5;241m.\u001b[39mfindall(\u001b[38;5;124mr\u001b[39m\u001b[38;5;124m'\u001b[39m\u001b[38;5;124m\\\u001b[39m\u001b[38;5;124m\"\u001b[39m\u001b[38;5;124mid\u001b[39m\u001b[38;5;124m\\\u001b[39m\u001b[38;5;124m\"\u001b[39m\u001b[38;5;124m: \u001b[39m\u001b[38;5;124m\\\u001b[39m\u001b[38;5;124m\"\u001b[39m\u001b[38;5;124m(t[0-9]*)\u001b[39m\u001b[38;5;124m\\\u001b[39m\u001b[38;5;124m\"\u001b[39m\u001b[38;5;124m'\u001b[39m, tweets)\n",
      "File \u001b[0;32m~/opt/anaconda3/envs/torch/lib/python3.8/site-packages/IPython/core/interactiveshell.py:282\u001b[0m, in \u001b[0;36m_modified_open\u001b[0;34m(file, *args, **kwargs)\u001b[0m\n\u001b[1;32m    275\u001b[0m \u001b[38;5;28;01mif\u001b[39;00m file \u001b[38;5;129;01min\u001b[39;00m {\u001b[38;5;241m0\u001b[39m, \u001b[38;5;241m1\u001b[39m, \u001b[38;5;241m2\u001b[39m}:\n\u001b[1;32m    276\u001b[0m     \u001b[38;5;28;01mraise\u001b[39;00m \u001b[38;5;167;01mValueError\u001b[39;00m(\n\u001b[1;32m    277\u001b[0m         \u001b[38;5;124mf\u001b[39m\u001b[38;5;124m\"\u001b[39m\u001b[38;5;124mIPython won\u001b[39m\u001b[38;5;124m'\u001b[39m\u001b[38;5;124mt let you open fd=\u001b[39m\u001b[38;5;132;01m{\u001b[39;00mfile\u001b[38;5;132;01m}\u001b[39;00m\u001b[38;5;124m by default \u001b[39m\u001b[38;5;124m\"\u001b[39m\n\u001b[1;32m    278\u001b[0m         \u001b[38;5;124m\"\u001b[39m\u001b[38;5;124mas it is likely to crash IPython. If you know what you are doing, \u001b[39m\u001b[38;5;124m\"\u001b[39m\n\u001b[1;32m    279\u001b[0m         \u001b[38;5;124m\"\u001b[39m\u001b[38;5;124myou can use builtins\u001b[39m\u001b[38;5;124m'\u001b[39m\u001b[38;5;124m open.\u001b[39m\u001b[38;5;124m\"\u001b[39m\n\u001b[1;32m    280\u001b[0m     )\n\u001b[0;32m--> 282\u001b[0m \u001b[38;5;28;01mreturn\u001b[39;00m \u001b[43mio_open\u001b[49m\u001b[43m(\u001b[49m\u001b[43mfile\u001b[49m\u001b[43m,\u001b[49m\u001b[43m \u001b[49m\u001b[38;5;241;43m*\u001b[39;49m\u001b[43margs\u001b[49m\u001b[43m,\u001b[49m\u001b[43m \u001b[49m\u001b[38;5;241;43m*\u001b[39;49m\u001b[38;5;241;43m*\u001b[39;49m\u001b[43mkwargs\u001b[49m\u001b[43m)\u001b[49m\n",
      "\u001b[0;31mFileNotFoundError\u001b[0m: [Errno 2] No such file or directory: 'TwiBot-22/tweets/tweet_9.json'"
     ]
    }
   ],
   "source": [
    "for i in range(1, 9):\n",
    "    with open(tweetPath + 'tweet_' + str(i) + '.json') as f:\n",
    "        tweets = f.read()\n",
    "    tid = re.findall(r'\\\"id\\\": \\\"(t[0-9]*)\\\"', tweets)\n",
    "    user = re.findall(r'\\\"author_id\\\": ([0-9]*)', tweets)\n",
    "    with open(tweetPath + 'tweet_' + str(i) + '_user.json', 'w') as f:\n",
    "        f.write(json.dumps(user))\n",
    "    with open(tweetPath + 'tweet_' + str(i) + '_tid.json', 'w') as f:\n",
    "        f.write(json.dumps(tid))\n",
    "    print('tweet', i, 'over.')"
   ]
  },
  {
   "cell_type": "code",
   "execution_count": null,
   "id": "0566c69e",
   "metadata": {},
   "outputs": [],
   "source": []
  }
 ],
 "metadata": {
  "kernelspec": {
   "display_name": "Python 3 (ipykernel)",
   "language": "python",
   "name": "python3"
  },
  "language_info": {
   "codemirror_mode": {
    "name": "ipython",
    "version": 3
   },
   "file_extension": ".py",
   "mimetype": "text/x-python",
   "name": "python",
   "nbconvert_exporter": "python",
   "pygments_lexer": "ipython3",
   "version": "3.8.16"
  }
 },
 "nbformat": 4,
 "nbformat_minor": 5
}
